{
 "cells": [
  {
   "cell_type": "code",
   "execution_count": null,
   "metadata": {},
   "outputs": [],
   "source": [
    "# 사칙연산을 따르는 계산기"
   ]
  },
  {
   "cell_type": "code",
   "execution_count": 8,
   "metadata": {},
   "outputs": [
    {
     "name": "stdout",
     "output_type": "stream",
     "text": [
      "계산식 입력> 8+8\n",
      "16\n"
     ]
    }
   ],
   "source": [
    "s = input('계산식 입력> ')\n",
    "print(eval(s))"
   ]
  },
  {
   "cell_type": "code",
   "execution_count": 9,
   "metadata": {},
   "outputs": [
    {
     "name": "stdout",
     "output_type": "stream",
     "text": [
      "계산식 입력> 2+4*2\n",
      "10\n"
     ]
    }
   ],
   "source": [
    "s = input('계산식 입력> ')\n",
    "print(eval(s))"
   ]
  },
  {
   "cell_type": "code",
   "execution_count": null,
   "metadata": {},
   "outputs": [
    {
     "name": "stdout",
     "output_type": "stream",
     "text": [
      "계산식 입력> 5+5\n",
      "결과: 10\n",
      "계산식 입력> 9*2\n",
      "결과: 18\n",
      "계산식 입력> 5+5*10\n",
      "결과: 55\n"
     ]
    }
   ],
   "source": [
    "import os\n",
    "\n",
    "while True:\n",
    "    os.system('cls')\n",
    "    s = input('계산식 입력> ')\n",
    "    print('결과: {}'.format(eval(s)))\n",
    "    os.system('pause')"
   ]
  }
 ],
 "metadata": {
  "kernelspec": {
   "display_name": "Python 3",
   "language": "python",
   "name": "python3"
  },
  "language_info": {
   "codemirror_mode": {
    "name": "ipython",
    "version": 3
   },
   "file_extension": ".py",
   "mimetype": "text/x-python",
   "name": "python",
   "nbconvert_exporter": "python",
   "pygments_lexer": "ipython3",
   "version": "3.8.3"
  }
 },
 "nbformat": 4,
 "nbformat_minor": 4
}
