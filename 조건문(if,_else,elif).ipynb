{
  "nbformat": 4,
  "nbformat_minor": 0,
  "metadata": {
    "colab": {
      "name": "조건문(if, else,elif).ipynb",
      "provenance": [],
      "authorship_tag": "ABX9TyMVrN/84x8jKUm3W/Ur7uqT",
      "include_colab_link": true
    },
    "kernelspec": {
      "name": "python3",
      "display_name": "Python 3"
    },
    "language_info": {
      "name": "python"
    }
  },
  "cells": [
    {
      "cell_type": "markdown",
      "metadata": {
        "id": "view-in-github",
        "colab_type": "text"
      },
      "source": [
        "<a href=\"https://colab.research.google.com/github/Kimjibeom/Python_Personal_Review/blob/main/%EC%A1%B0%EA%B1%B4%EB%AC%B8(if%2C_else%2Celif).ipynb\" target=\"_parent\"><img src=\"https://colab.research.google.com/assets/colab-badge.svg\" alt=\"Open In Colab\"/></a>"
      ]
    },
    {
      "cell_type": "markdown",
      "metadata": {
        "id": "ne4PrLjZztOG"
      },
      "source": [
        "조건문 (if, else,elif)"
      ]
    },
    {
      "cell_type": "code",
      "metadata": {
        "colab": {
          "base_uri": "https://localhost:8080/"
        },
        "id": "RaRoCfEkznip",
        "outputId": "e020bb85-d179-469e-bfe4-c19ce7a5f1c1"
      },
      "source": [
        "# 현재 시간이 12시면 점심을 먹고 아니면 일을 한다\n",
        "\n",
        "time = 12\n",
        "\n",
        "if time ==12:\n",
        "  print(\"점심 먹으러감\")\n",
        "else:\n",
        "  print('일하는 중..')"
      ],
      "execution_count": null,
      "outputs": [
        {
          "output_type": "stream",
          "text": [
            "점심 먹으러감\n"
          ],
          "name": "stdout"
        }
      ]
    },
    {
      "cell_type": "markdown",
      "metadata": {
        "id": "VSklsaRdASPt"
      },
      "source": [
        "현재 시간이 12시부터 1시 이전이면 점심을 먹고 아니면 일을 한다"
      ]
    },
    {
      "cell_type": "code",
      "metadata": {
        "colab": {
          "base_uri": "https://localhost:8080/"
        },
        "id": "e0tzqmTTAdKL",
        "outputId": "9b546ac4-266c-4b2f-81ee-fc1b51013f1b"
      },
      "source": [
        "time = 12\n",
        "\n",
        "if 12 <= time < 1:\n",
        "  print(\"점심 먹으러감\")\n",
        "else:\n",
        "  print('일하는 중..')"
      ],
      "execution_count": null,
      "outputs": [
        {
          "output_type": "stream",
          "text": [
            "일하는 중..\n"
          ],
          "name": "stdout"
        }
      ]
    },
    {
      "cell_type": "markdown",
      "metadata": {
        "id": "-kZuuDXOCEFD"
      },
      "source": [
        "현재 시간이 12시부터 1시 이전이면 점심을 먹고 3시부터 4시까지는 휴식하고 아니면 일을한다"
      ]
    },
    {
      "cell_type": "code",
      "metadata": {
        "colab": {
          "base_uri": "https://localhost:8080/"
        },
        "id": "-_lJ7KwGAxpL",
        "outputId": "c1984111-7b20-46af-f681-e2869f21e835"
      },
      "source": [
        "time = 12\n",
        "\n",
        "if 12 <= time < 1:\n",
        "  print(\"점심 먹으러감.\")\n",
        "elif 3 <= time <= 4:\n",
        "  print('휴식시간')\n",
        "else:\n",
        "  print('일하는 중..')"
      ],
      "execution_count": null,
      "outputs": [
        {
          "output_type": "stream",
          "text": [
            "일하는 중..\n"
          ],
          "name": "stdout"
        }
      ]
    },
    {
      "cell_type": "markdown",
      "metadata": {
        "id": "V6zh6iBgBHb3"
      },
      "source": [
        ""
      ]
    },
    {
      "cell_type": "code",
      "metadata": {
        "colab": {
          "base_uri": "https://localhost:8080/"
        },
        "id": "onrao3htBIWq",
        "outputId": "2291f6c5-872f-431c-eb02-bced45ab1a19"
      },
      "source": [
        "# 현재 시간이 12시부터 1시 이전이면 점심을 먹고 \n",
        "# 3시부터 4시 이건 아프면 휴식하고 \n",
        "# 아니면 일을 한다\n",
        "\n",
        "time = 12\n",
        "sick = True\n",
        "\n",
        "if 12 <= time < 1 and not sick:\n",
        "  print(\"점심 먹으러감.\")\n",
        "elif 3 <= time <= 4 or sick:\n",
        "  print('휴식시간')\n",
        "else:\n",
        "  print('일하는 중..')\n",
        "\n",
        "  name = ['홍길동', '가가멜', '가제트']\n",
        "  if '가제트' in name:\n",
        "    print('있음')\n",
        "  else:\n",
        "    print('없음')\n"
      ],
      "execution_count": null,
      "outputs": [
        {
          "output_type": "stream",
          "text": [
            "휴식시간\n"
          ],
          "name": "stdout"
        }
      ]
    }
  ]
}