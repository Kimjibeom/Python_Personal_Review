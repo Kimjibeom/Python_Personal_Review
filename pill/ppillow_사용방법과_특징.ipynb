{
  "nbformat": 4,
  "nbformat_minor": 0,
  "metadata": {
    "colab": {
      "name": "pillow 사용방법과 특징.ipynb",
      "provenance": [],
      "authorship_tag": "ABX9TyO6U7P1953ltRrC3SybzyCD",
      "include_colab_link": true
    },
    "kernelspec": {
      "name": "python3",
      "display_name": "Python 3"
    },
    "language_info": {
      "name": "python"
    }
  },
  "cells": [
    {
      "cell_type": "markdown",
      "metadata": {
        "id": "view-in-github",
        "colab_type": "text"
      },
      "source": [
        "<a href=\"https://colab.research.google.com/github/Kimjibeom/Python_Personal_Review/blob/main/pillow_%EC%82%AC%EC%9A%A9%EB%B0%A9%EB%B2%95%EA%B3%BC_%ED%8A%B9%EC%A7%95.ipynb\" target=\"_parent\"><img src=\"https://colab.research.google.com/assets/colab-badge.svg\" alt=\"Open In Colab\"/></a>"
      ]
    },
    {
      "cell_type": "code",
      "metadata": {
        "colab": {
          "base_uri": "https://localhost:8080/"
        },
        "id": "b47YPUD---xC",
        "outputId": "69deb67f-af9b-4084-9daa-39a51656032f"
      },
      "source": [
        "pip install pillow"
      ],
      "execution_count": 1,
      "outputs": [
        {
          "output_type": "stream",
          "text": [
            "Requirement already satisfied: pillow in /usr/local/lib/python3.7/dist-packages (7.1.2)\n"
          ],
          "name": "stdout"
        }
      ]
    },
    {
      "cell_type": "code",
      "metadata": {
        "colab": {
          "base_uri": "https://localhost:8080/"
        },
        "id": "tdkFWRD6_jSd",
        "outputId": "7753f227-74e0-44ba-dd65-dead3f9bb24a"
      },
      "source": [
        "from PIL import Image\n",
        "\n",
        "img = Image.open('/content/cat.jpg')\n",
        "print(img.size)"
      ],
      "execution_count": 17,
      "outputs": [
        {
          "output_type": "stream",
          "text": [
            "(259, 194)\n"
          ],
          "name": "stdout"
        }
      ]
    },
    {
      "cell_type": "code",
      "metadata": {
        "id": "edNustUX_4La"
      },
      "source": [
        "img = img.rotate(45) # 45도 회전\n",
        "img.show()"
      ],
      "execution_count": 18,
      "outputs": []
    },
    {
      "cell_type": "code",
      "metadata": {
        "id": "21HRuFtTAt87"
      },
      "source": [
        "img.save('cat.png')"
      ],
      "execution_count": 19,
      "outputs": []
    },
    {
      "cell_type": "markdown",
      "metadata": {
        "id": "fwQsGsbDBJrg"
      },
      "source": [
        "url로 이미지 가져오기"
      ]
    },
    {
      "cell_type": "code",
      "metadata": {
        "id": "Mseut-McBJYC"
      },
      "source": [
        "import requests\n",
        "url = 'https://encrypted-tbn0.gstatic.com/images?q=tbn:ANd9GcQcwpYkJWRzt1HTz7Hz860WG907ILXF4b0z9Q&usqp=CAU'"
      ],
      "execution_count": 14,
      "outputs": []
    },
    {
      "cell_type": "code",
      "metadata": {
        "id": "fhlYdRLSBEpi"
      },
      "source": [
        "img = Image.open(requests.get(url, stream=True).raw)"
      ],
      "execution_count": 15,
      "outputs": []
    },
    {
      "cell_type": "code",
      "metadata": {
        "id": "yqSXfxAnBiS5"
      },
      "source": [
        "img.save('sample.jpg')"
      ],
      "execution_count": 16,
      "outputs": []
    },
    {
      "cell_type": "code",
      "metadata": {
        "id": "-GbUjAzOB8Qi"
      },
      "source": [
        ""
      ],
      "execution_count": null,
      "outputs": []
    }
  ]
}
