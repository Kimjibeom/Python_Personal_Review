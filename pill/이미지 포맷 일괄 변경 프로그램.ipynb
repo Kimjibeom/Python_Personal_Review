{
 "cells": [
  {
   "cell_type": "code",
   "execution_count": 6,
   "metadata": {},
   "outputs": [
    {
     "name": "stdout",
     "output_type": "stream",
     "text": [
      "['C:/Users/KimJiBeom/Desktop/images\\\\cat.jpg']\n"
     ]
    }
   ],
   "source": [
    "from PIL import Image\n",
    "import os\n",
    "\n",
    "def search_dir(dirname):\n",
    "    result_file_list = []\n",
    "    \n",
    "    filenames = os.listdir(dirname)\n",
    "    for filename in filenames:\n",
    "        full_path = os.path.join(dirname, filename)\n",
    "        \n",
    "        if os.path.isdir(full_path):\n",
    "            result_file_list.extend(search_dir(full_path))\n",
    "        else:\n",
    "            result_file_list.append(full_path)\n",
    "    return result_file_list\n",
    "\n",
    "print(search_dir(\"C:/Users/KimJiBeom/Desktop/images\"))"
   ]
  },
  {
   "cell_type": "code",
   "execution_count": 7,
   "metadata": {},
   "outputs": [
    {
     "name": "stdout",
     "output_type": "stream",
     "text": [
      "C:/Users/KimJiBeom/Desktop/images\\convert\n"
     ]
    }
   ],
   "source": [
    "from PIL import Image\n",
    "import os\n",
    "\n",
    "def search_dir(dirname):\n",
    "    result_file_list = []\n",
    "    \n",
    "    filenames = os.listdir(dirname)\n",
    "    for filename in filenames:\n",
    "        full_path = os.path.join(dirname, filename)\n",
    "        \n",
    "        if os.path.isdir(full_path):\n",
    "            result_file_list.extend(search_dir(full_path))\n",
    "        else:\n",
    "            result_file_list.append(full_path)\n",
    "    return result_file_list\n",
    "\n",
    "file_list = search_dir(\"C:/Users/KimJiBeom/Desktop/images\")\n",
    "for file in file_list:\n",
    "    new_folder = os.path.split(file)[0] + \"\\\\convert\"\n",
    "    print(new_folder)"
   ]
  },
  {
   "cell_type": "code",
   "execution_count": 8,
   "metadata": {},
   "outputs": [
    {
     "name": "stdout",
     "output_type": "stream",
     "text": [
      "C:/Users/KimJiBeom/Desktop/images\\convert\\cat.png\n"
     ]
    }
   ],
   "source": [
    "from PIL import Image\n",
    "import os\n",
    "\n",
    "def search_dir(dirname):\n",
    "    result_file_list = []\n",
    "    \n",
    "    filenames = os.listdir(dirname)\n",
    "    for filename in filenames:\n",
    "        full_path = os.path.join(dirname, filename)\n",
    "        \n",
    "        if os.path.isdir(full_path):\n",
    "            result_file_list.extend(search_dir(full_path))\n",
    "        else:\n",
    "            result_file_list.append(full_path)\n",
    "    return result_file_list\n",
    "\n",
    "new_format = '.png'\n",
    "file_list = search_dir(\"C:/Users/KimJiBeom/Desktop/images\")\n",
    "for file in file_list:\n",
    "    new_folder = os.path.split(file)[0] + \"\\\\convert\"\n",
    "    if not os.path.exists(new_folder):\n",
    "        os.mkdir(new_folder)\n",
    "    src_filename = os.path.splitext(file)[0]\n",
    "    new_file = new_folder + '\\\\' + src_filename.split('\\\\')[-1] + new_format\n",
    "    print(new_file)"
   ]
  },
  {
   "cell_type": "code",
   "execution_count": 9,
   "metadata": {},
   "outputs": [],
   "source": [
    "from PIL import Image\n",
    "import os\n",
    "\n",
    "def search_dir(dirname):\n",
    "    result_file_list = []\n",
    "    \n",
    "    filenames = os.listdir(dirname)\n",
    "    for filename in filenames:\n",
    "        full_path = os.path.join(dirname, filename)\n",
    "        \n",
    "        if os.path.isdir(full_path):\n",
    "            result_file_list.extend(search_dir(full_path))\n",
    "        else:\n",
    "            result_file_list.append(full_path)\n",
    "    return result_file_list\n",
    "\n",
    "new_format = '.png'\n",
    "file_list = search_dir(\"C:/Users/KimJiBeom/Desktop/images\")\n",
    "for file in file_list:\n",
    "    new_folder = os.path.split(file)[0] + \"\\\\convert\"\n",
    "    if not os.path.exists(new_folder):\n",
    "        os.mkdir(new_folder)\n",
    "    src_filename = os.path.splitext(file)[0]\n",
    "    new_file = new_folder + '\\\\' + src_filename.split('\\\\')[-1] + new_format\n",
    "    \n",
    "    img = Image.open(file)\n",
    "    img.save(new_file)"
   ]
  },
  {
   "cell_type": "code",
   "execution_count": 12,
   "metadata": {},
   "outputs": [],
   "source": [
    "from PIL import Image\n",
    "import os\n",
    "\n",
    "def search_dir(dirname):\n",
    "    result_file_list = []\n",
    "    \n",
    "    filenames = os.listdir(dirname)\n",
    "    for filename in filenames:\n",
    "        full_path = os.path.join(dirname, filename)\n",
    "        \n",
    "        if os.path.isdir(full_path):\n",
    "            if filename != 'convert':\n",
    "                result_file_list.extend(search_dir(full_path))\n",
    "        else:\n",
    "            result_file_list.append(full_path)\n",
    "    return result_file_list\n",
    "\n",
    "new_format = '.gif'\n",
    "file_list = search_dir(\"C:/Users/KimJiBeom/Desktop/images\")\n",
    "for file in file_list:\n",
    "    new_folder = os.path.split(file)[0] + \"\\\\convert\"\n",
    "    if not os.path.exists(new_folder):\n",
    "        os.mkdir(new_folder)\n",
    "    src_filename = os.path.splitext(file)[0]\n",
    "    new_file = new_folder + '\\\\' + src_filename.split('\\\\')[-1] + new_format\n",
    "    \n",
    "    try:\n",
    "        img = Image.open(file)\n",
    "        \n",
    "        img.verify()\n",
    "        img.close()\n",
    "        \n",
    "        img= Image.open(file)        \n",
    "        img.save(new_file)\n",
    "    except:\n",
    "        pass"
   ]
  },
  {
   "cell_type": "code",
   "execution_count": 16,
   "metadata": {},
   "outputs": [
    {
     "name": "stdout",
     "output_type": "stream",
     "text": [
      "사용법: python changer.py -f <대상폴더 -e <변환될확장자>\n"
     ]
    }
   ],
   "source": [
    "from PIL import Image\n",
    "import os\n",
    "import argparse\n",
    "\n",
    "def search_dir(dirname):\n",
    "    result_file_list = []\n",
    "    \n",
    "    filenames = os.listdir(dirname)\n",
    "    for filename in filenames:\n",
    "        full_path = os.path.join(dirname, filename)\n",
    "        \n",
    "        if os.path.isdir(full_path):\n",
    "            if filename != 'convert':\n",
    "                result_file_list.extend(search_dir(full_path))\n",
    "        else:\n",
    "            result_file_list.append(full_path)\n",
    "    return result_file_list\n",
    "\n",
    "p = argparse.ArgumentParser()\n",
    "p.add_argument('-f', type=str)\n",
    "p.add_argument('-e', type=str)\n",
    "args = p. parse_args()\n",
    "\n",
    "if args.f is None or args.e is None:\n",
    "    print('사용법: python changer.py -f <대상폴더 -e <변환될확장자>')\n",
    "else:\n",
    "    new_format = args.e\n",
    "    if new_format[0] != '.':\n",
    "        new_format = '.' + new_format\n",
    "    file_list = search_dir(args.f)\n",
    "    for file in file_list:\n",
    "        new_folder = os.path.split(file)[0] + \"\\\\convert\"\n",
    "        if not os.path.exists(new_folder):\n",
    "            os.mkdir(new_folder)\n",
    "        src_filename = os.path.splitext(file)[0]\n",
    "        new_file = new_folder + '\\\\' + src_filename.split('\\\\')[-1] + new_format\n",
    "\n",
    "        try:\n",
    "            img = Image.open(file)\n",
    "\n",
    "            img.verify()\n",
    "            img.close()\n",
    "\n",
    "            img= Image.open(file)        \n",
    "            img.save(new_file)\n",
    "        except:\n",
    "            pass"
   ]
  },
  {
   "cell_type": "code",
   "execution_count": null,
   "metadata": {},
   "outputs": [],
   "source": []
  }
 ],
 "metadata": {
  "kernelspec": {
   "display_name": "Python 3",
   "language": "python",
   "name": "python3"
  },
  "language_info": {
   "codemirror_mode": {
    "name": "ipython",
    "version": 3
   },
   "file_extension": ".py",
   "mimetype": "text/x-python",
   "name": "python",
   "nbconvert_exporter": "python",
   "pygments_lexer": "ipython3",
   "version": "3.8.3"
  }
 },
 "nbformat": 4,
 "nbformat_minor": 4
}
