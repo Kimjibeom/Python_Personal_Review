{
  "nbformat": 4,
  "nbformat_minor": 0,
  "metadata": {
    "colab": {
      "name": "ghp control.ipynb",
      "provenance": [],
      "authorship_tag": "ABX9TyN1tqf13T/W24p39jfjxP57",
      "include_colab_link": true
    },
    "kernelspec": {
      "name": "python3",
      "display_name": "Python 3"
    },
    "language_info": {
      "name": "python"
    }
  },
  "cells": [
    {
      "cell_type": "markdown",
      "metadata": {
        "id": "view-in-github",
        "colab_type": "text"
      },
      "source": [
        "<a href=\"https://colab.research.google.com/github/Kimjibeom/Python_Personal_Review/blob/main/ghp_control.ipynb\" target=\"_parent\"><img src=\"https://colab.research.google.com/assets/colab-badge.svg\" alt=\"Open In Colab\"/></a>"
      ]
    },
    {
      "cell_type": "code",
      "metadata": {
        "id": "hBjxwbjZNBa1"
      },
      "source": [
        "pip install selenium"
      ],
      "execution_count": null,
      "outputs": []
    },
    {
      "cell_type": "code",
      "metadata": {
        "id": "aHO4Yr9uMlmC"
      },
      "source": [
        "from selenium import webdriver\n",
        "\n",
        "from selenium.webdriver.common.keys import Keys\n",
        "\n",
        "from time import sleep\n",
        "\n",
        " \n",
        "\n",
        "driver = webdriver.Chrome(\"C:/Users/kim/Desktop/chromedriver.exe\") # 크롬드라이버\n",
        "\n",
        " \n",
        "\n",
        "url = 'http:// XXXXX' # 접속할 url\n",
        "\n",
        " \n",
        "\n",
        "driver.get(url) # url 접속\n",
        "\n",
        "sleep(1)\n",
        "\n",
        " \n",
        "\n",
        "driver.find_element_by_id('loginId').send_keys('id') # id 입력\n",
        "\n",
        "driver.find_element_by_id('loginPw').send_keys('pw') # pw 입력\n",
        "\n",
        "driver.find_element_by_id('btn_login').click() # 로그인\n",
        "\n",
        "sleep(2)\n",
        "\n",
        "iframe = driver.find_element_by_xpath(\"//iframe[@name='bodyFrame']\")    # iframe 추출\n",
        "\n",
        "driver.switch_to.frame(iframe) \n",
        "\n",
        "iframe = driver.find_element_by_xpath(\"//iframe[@name='bodyFrame']\")\n",
        "\n",
        "driver.switch_to.frame(iframe)\n",
        "\n",
        " \n",
        "# Java Script\n",
        "driver.execute_script('''setInterval(()=> {\n",
        "\n",
        "if (document.querySelector('[title=\"1-1664-200\"]').firstElementChild.src === \"button off\"){ \n",
        "\n",
        "fn_run_button_click(\"GHP(2)\");}\n",
        "\n",
        "}, 600000);''')     # 버튼 off에 해당하는 버튼을 5분마다 실행시킴\n",
        "\n",
        "driver.execute_script('''setInterval(()=> {\n",
        "\n",
        "if (document.querySelector('[title=\"1-1664-201\"]').firstElementChild.src === \"button off\"){\n",
        "\n",
        "fn_run_button_click(\"GHP(3)\");}\n",
        "\n",
        "}, 600000);''')\n",
        "\n",
        "driver.execute_script('''setInterval(()=> {\n",
        "\n",
        "if (document.querySelector('[title=\"1-1664-202\"]').firstElementChild.src === \"button off\"){\n",
        "\n",
        "fn_run_button_click(\"GHP(4)\");}\n",
        "\n",
        "}, 600000);''')\n",
        "\n",
        "driver.execute_script('''setInterval(()=> {\n",
        "\n",
        "if (document.querySelector('[title=\"1-1664-203\"]').firstElementChild.src === \"button off\"){\n",
        "\n",
        "fn_run_button_click(\"GHP(5)\");}\n",
        "\n",
        "}, 600000);''')"
      ],
      "execution_count": null,
      "outputs": []
    }
  ]
}