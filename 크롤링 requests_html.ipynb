{
 "cells": [
  {
   "cell_type": "code",
   "execution_count": 5,
   "metadata": {},
   "outputs": [
    {
     "name": "stdout",
     "output_type": "stream",
     "text": [
      "Requirement already satisfied: requests_html in c:\\users\\kimjibeom\\anaconda3\\lib\\site-packages (0.10.0)\n",
      "Requirement already satisfied: w3lib in c:\\users\\kimjibeom\\anaconda3\\lib\\site-packages (from requests_html) (1.22.0)\n",
      "Requirement already satisfied: pyquery in c:\\users\\kimjibeom\\anaconda3\\lib\\site-packages (from requests_html) (1.4.3)\n",
      "Requirement already satisfied: bs4 in c:\\users\\kimjibeom\\anaconda3\\lib\\site-packages (from requests_html) (0.0.1)\n",
      "Requirement already satisfied: parse in c:\\users\\kimjibeom\\anaconda3\\lib\\site-packages (from requests_html) (1.19.0)\n",
      "Requirement already satisfied: requests in c:\\users\\kimjibeom\\anaconda3\\lib\\site-packages (from requests_html) (2.24.0)\n",
      "Requirement already satisfied: fake-useragent in c:\\users\\kimjibeom\\anaconda3\\lib\\site-packages (from requests_html) (0.1.11)\n",
      "Requirement already satisfied: pyppeteer>=0.0.14 in c:\\users\\kimjibeom\\anaconda3\\lib\\site-packages (from requests_html) (0.2.5)\n",
      "Requirement already satisfied: six>=1.4.1 in c:\\users\\kimjibeom\\anaconda3\\lib\\site-packages (from w3lib->requests_html) (1.15.0)\n",
      "Requirement already satisfied: cssselect>0.7.9 in c:\\users\\kimjibeom\\anaconda3\\lib\\site-packages (from pyquery->requests_html) (1.1.0)\n",
      "Requirement already satisfied: lxml>=2.1 in c:\\users\\kimjibeom\\anaconda3\\lib\\site-packages (from pyquery->requests_html) (4.5.2)\n",
      "Requirement already satisfied: beautifulsoup4 in c:\\users\\kimjibeom\\anaconda3\\lib\\site-packages (from bs4->requests_html) (4.9.1)\n",
      "Requirement already satisfied: chardet<4,>=3.0.2 in c:\\users\\kimjibeom\\anaconda3\\lib\\site-packages (from requests->requests_html) (3.0.4)\n",
      "Requirement already satisfied: idna<3,>=2.5 in c:\\users\\kimjibeom\\anaconda3\\lib\\site-packages (from requests->requests_html) (2.10)\n",
      "Requirement already satisfied: urllib3!=1.25.0,!=1.25.1,<1.26,>=1.21.1 in c:\\users\\kimjibeom\\anaconda3\\lib\\site-packages (from requests->requests_html) (1.25.9)\n",
      "Requirement already satisfied: certifi>=2017.4.17 in c:\\users\\kimjibeom\\anaconda3\\lib\\site-packages (from requests->requests_html) (2020.6.20)\n",
      "Requirement already satisfied: websockets<9.0,>=8.1 in c:\\users\\kimjibeom\\anaconda3\\lib\\site-packages (from pyppeteer>=0.0.14->requests_html) (8.1)\n",
      "Requirement already satisfied: pyee<9.0.0,>=8.1.0 in c:\\users\\kimjibeom\\anaconda3\\lib\\site-packages (from pyppeteer>=0.0.14->requests_html) (8.1.0)\n",
      "Requirement already satisfied: tqdm<5.0.0,>=4.42.1 in c:\\users\\kimjibeom\\anaconda3\\lib\\site-packages (from pyppeteer>=0.0.14->requests_html) (4.47.0)\n",
      "Requirement already satisfied: appdirs<2.0.0,>=1.4.3 in c:\\users\\kimjibeom\\anaconda3\\lib\\site-packages (from pyppeteer>=0.0.14->requests_html) (1.4.4)\n",
      "Requirement already satisfied: soupsieve>1.2 in c:\\users\\kimjibeom\\anaconda3\\lib\\site-packages (from beautifulsoup4->bs4->requests_html) (2.0.1)\n",
      "Note: you may need to restart the kernel to use updated packages.\n"
     ]
    }
   ],
   "source": [
    "pip install requests_html"
   ]
  },
  {
   "cell_type": "code",
   "execution_count": 9,
   "metadata": {},
   "outputs": [
    {
     "name": "stdout",
     "output_type": "stream",
     "text": [
      "{'/policy/spamcheck.html', 'https://post.naver.com/viewer/postView.naver?volumeNo=31479923&memberNo=52221050', 'http://newsstand.naver.com/?list=&pcode=032', 'https://help.naver.com/support/contents/contents.help?serviceNo=606&categoryNo=16659', 'https://post.naver.com/viewer/postView.naver?volumeNo=31908981&memberNo=34948547', 'https://nid.naver.com/nidlogin.login', 'http://news.naver.com/main/list.nhn?mode=LPOD&mid=sec&sid1=001&sid2=140&oid=001&isYeonhapFlash=Y&aid=0012538460', 'https://post.naver.com/viewer/postView.naver?volumeNo=31936360&memberNo=12179716', 'https://blog.naver.com/sonsarang38/222423389828', 'http://news.naver.com/main/list.nhn?mode=LPOD&mid=sec&sid1=001&sid2=140&oid=001&isYeonhapFlash=Y&aid=0012537866', 'https://www.naver.com/NOTICE', 'https://post.naver.com/viewer/postView.naver?volumeNo=31957512&memberNo=46637709', 'http://newsstand.naver.com/?list=&pcode=047', 'http://news.naver.com/main/list.nhn?mode=LPOD&mid=sec&sid1=001&sid2=140&oid=001&isYeonhapFlash=Y&aid=0012537883', 'https://post.naver.com/viewer/postView.naver?volumeNo=31864145&memberNo=43820492', 'https://post.naver.com/viewer/postView.naver?volumeNo=31926941&memberNo=46637709', 'https://post.naver.com/viewer/postView.naver?volumeNo=31946851&memberNo=6309856', 'https://post.naver.com/viewer/postView.naver?volumeNo=31927978&memberNo=46637709', 'https://finance.naver.com/marketindex/exchangeDetail.nhn?marketindexCd=FX_USDKRW', 'https://post.naver.com/viewer/postView.naver?volumeNo=31956184&memberNo=202156', '@5@', 'https://map.naver.com/', 'https://post.naver.com/viewer/postView.naver?volumeNo=31982431&memberNo=20092661', 'https://search.naver.com/search.naver?sm=top_hty&fbm=0&ie=utf8&query=%EC%BD%94%EB%A1%9C%EB%82%9819', '/policy/service.html', 'https://post.naver.com/viewer/postView.naver?volumeNo=31966245&memberNo=27908841', 'https://blog.naver.com/bagus8/222433658441', 'https://www.navercorp.com/service/business', '/', 'https://post.naver.com/viewer/postView.naver?volumeNo=31981214&memberNo=30910003', 'http://newsstand.naver.com/?list=&pcode=038', 'https://post.naver.com/viewer/postView.naver?volumeNo=31467328&memberNo=36310338&navigationType=push', 'https://d2.naver.com', 'https://nid.naver.com/nidreminder.form', 'https://post.naver.com/viewer/postView.naver?volumeNo=31881706&memberNo=43209292', 'http://newsstand.naver.com/?list=&pcode=826', 'http://news.naver.com/main/list.nhn?mode=LPOD&mid=sec&sid1=001&sid2=140&oid=001&isYeonhapFlash=Y&aid=0012538454', 'https://nid.naver.com/user/help.nhn?todo=idinquiry', 'https://post.naver.com/viewer/postView.naver?volumeNo=31989245&memberNo=4846060', 'https://post.naver.com/viewer/postView.naver?volumeNo=31921288&memberNo=44933078', 'https://www.navercorp.com/naver/proposalGuide', 'http://d2startup.com', 'https://post.naver.com/viewer/postView.naver?volumeNo=31963033&memberNo=51354982', 'https://finance.naver.com/', 'http://news.naver.com/main/list.nhn?mode=LPOD&mid=sec&sid1=001&sid2=140&oid=001&isYeonhapFlash=Y&aid=0012538472', 'http://newsstand.naver.com/', 'http://newsstand.naver.com/?list=&pcode=055', 'https://recruit.navercorp.com/naver/recruitMain', 'http://newsstand.naver.com/?list=&pcode=959', 'http://news.naver.com/main/list.nhn?mode=LPOD&mid=sec&sid1=001&sid2=140&oid=001&isYeonhapFlash=Y&aid=0012538234', 'http://news.naver.com/main/list.nhn?mode=LPOD&mid=sec&sid1=001&sid2=140&oid=001&isYeonhapFlash=Y&aid=0012538473', 'https://post.naver.com/viewer/postView.naver?volumeNo=31854143&memberNo=25128306&navigationType=push', 'https://post.naver.com/viewer/postView.naver?volumeNo=31959735&memberNo=42198376', 'https://post.naver.com/viewer/postView.nhn?volumeNo=31588958&memberNo=43209292', 'http://newsstand.naver.com/?list=&pcode=948', 'https://help.naver.com/support/service/main.help?serviceNo=605&categoryNo=1987', 'https://post.naver.com/viewer/postView.naver?volumeNo=31975820&memberNo=43209292', 'http://newsstand.naver.com/?list=&pcode=928', 'https://post.naver.com/viewer/postView.naver?volumeNo=31888935&memberNo=54083852', 'https://post.naver.com/viewer/postView.naver?volumeNo=31968557&memberNo=50729544', 'http://newsstand.naver.com/?list=&pcode=009', 'http://newsstand.naver.com/?list=&pcode=293', 'https://post.naver.com/viewer/postView.naver?volumeNo=31933402&memberNo=50245213', 'https://mail.naver.com/', 'https://news.naver.com/', 'http://news.naver.com/main/list.nhn?mode=LPOD&mid=sec&sid1=001&sid2=140&oid=001&isYeonhapFlash=Y&aid=0012538462', 'https://help.naver.com/support/contents/contents.help?serviceNo=605&categoryNo=18215', 'http://newsstand.naver.com/?list=&pcode=031', 'https://comic.naver.com/', 'https://post.naver.com/viewer/postView.naver?volumeNo=31918714&memberNo=42198376', 'http://m.sports.naver.com/tokyo2020/index', 'https://post.naver.com/viewer/postView.naver?volumeNo=31946818&memberNo=49797427', 'https://post.naver.com/viewer/postView.naver?volumeNo=31866104&memberNo=43209292', 'http://sports.news.naver.com/', 'http://newsstand.naver.com/?list=&pcode=941', 'https://post.naver.com/viewer/postView.naver?volumeNo=31699067&memberNo=27908841&navigationType=push', '/policy/privacy.html', 'https://campaign.naver.com/smefullcare/online/', 'https://tv.naver.com/', 'https://post.naver.com/viewer/postView.naver?volumeNo=31928692&memberNo=51578577', 'https://post.naver.com/viewer/postView.naver?volumeNo=31493701&memberNo=36310338', 'https://land.naver.com/', 'https://post.naver.com/viewer/postView.naver?volumeNo=31951244&memberNo=42198376', 'http://newsstand.naver.com/?list=&pcode=327', 'https://section.cafe.naver.com/', 'https://section.blog.naver.com/', 'http://newsstand.naver.com/?list=&pcode=008', 'http://newsstand.naver.com/?list=&pcode=022', 'https://nid.naver.com/nidregister.form?url=https%3A%2F%2Fwww.naver.com', 'https://order.pay.naver.com/home', 'https://vibe.naver.com/', 'https://www.navercorp.com/service/creators', 'https://post.naver.com/viewer/postView.naver?volumeNo=31872079&memberNo=43209292', 'https://post.naver.com/viewer/postView.naver?volumeNo=31925901&memberNo=27908841', 'http://newsstand.naver.com/?list=&pcode=089', 'https://help.naver.com/support/alias/search/word/word_29.naver', 'https://book.naver.com/', 'http://newsstand.naver.com/?list=&pcode=076', 'https://post.naver.com/viewer/postView.naver?volumeNo=31928008&memberNo=34948547', 'https://finance.naver.com/world/sise.nhn?symbol=NAS@IXIC', 'https://post.naver.com/viewer/postView.naver?volumeNo=31180299&memberNo=52221050', 'https://post.naver.com/viewer/postView.naver?volumeNo=31782776&memberNo=46637709', 'http://news.naver.com/main/list.nhn?mode=LPOD&mid=sec&sid1=001&sid2=140&oid=001&isYeonhapFlash=Y&aid=0012537977', 'https://post.naver.com/viewer/postView.naver?volumeNo=31929221&memberNo=51578577', 'http://news.naver.com/', 'https://dict.naver.com/', 'https://post.naver.com/viewer/postView.nhn?volumeNo=31376416&memberNo=607398', 'http://newsstand.naver.com/config.html', 'https://help.naver.com/support/contents/contents.nhn?serviceNo=606&categoryNo=16658', 'https://installer-whale.pstatic.net/downloads/installers/NaverWhale.dmg', 'https://search.naver.com/search.naver?where=nexearch&sm=top_hty&fbm=1&ie=utf8&query=%ED%94%84%EB%A1%9C%EC%A0%9D%ED%8A%B8%EA%BD%83', 'https://post.naver.com/viewer/postView.naver?volumeNo=31277068&memberNo=43764812', 'https://help.naver.com/', 'https://post.naver.com/viewer/postView.naver?volumeNo=31945086&memberNo=43764812', 'https://post.naver.com/viewer/postView.naver?volumeNo=31951551&memberNo=43209292', 'https://shoppinglive.naver.com/home', 'https://business.naver.com/service.html', 'http://newsstand.naver.com/?list=&pcode=983', 'https://post.naver.com/viewer/postView.naver?volumeNo=31921285&memberNo=2966116', 'https://post.naver.com/viewer/postView.naver?volumeNo=31957693&memberNo=43209292', 'http://news.naver.com/main/list.nhn?mode=LPOD&mid=sec&sid1=001&sid2=140&oid=001&isYeonhapFlash=Y', 'https://www.navercorp.com', 'https://post.naver.com/viewer/postView.naver?volumeNo=31949295&memberNo=36310338', 'https://blog.naver.com/fss2009/222433374655', 'https://developers.naver.com/docs/common/openapiguide/#/apilist.md', 'https://post.naver.com/viewer/postView.naver?volumeNo=31976757&memberNo=50729544', 'https://whale.naver.com/banner/details/darkmode?=main&', 'http://newsstand.naver.com/?list=&pcode=079', 'https://help.naver.com/support/welcomePage/guide.help', 'http://news.naver.com/main/list.nhn?mode=LPOD&mid=sec&sid1=001&sid2=140&oid=001&isYeonhapFlash=Y&aid=0012538470', 'http://newsstand.naver.com/?list=&pcode=030', 'https://post.naver.com/viewer/postView.naver?volumeNo=31968200&memberNo=50729544', 'http://newsstand.naver.com/?list=&pcode=331', 'https://post.naver.com/viewer/postView.naver?volumeNo=31968271&memberNo=46511596', 'https://shopping.naver.com/', 'https://news.naver.com/main/home.nhn', 'http://newsstand.naver.com/?list=&pcode=215', 'http://entertain.naver.com/home', 'https://blog.naver.com/datejust88/222428399145', 'https://expert.naver.com/expert/introduction?tab=guide#join', 'https://post.naver.com/viewer/postView.naver?volumeNo=31829528&memberNo=46637709', 'https://weather.naver.com/today/17110250', 'https://developers.naver.com', 'http://whale.naver.com/', '/policy/youthpolicy.html', 'https://kin.naver.com/', 'https://post.naver.com/viewer/postView.naver?volumeNo=31514403&memberNo=34429994', 'https://post.naver.com/viewer/postView.naver?volumeNo=31996022&memberNo=31543081', 'https://smartplace.naver.com', 'http://newsstand.naver.com/?list=&pcode=056', 'https://www.naverlabs.com', 'http://newsstand.naver.com/?list=&pcode=539', 'https://post.naver.com/viewer/postView.naver?volumeNo=31913836&memberNo=50729544', 'https://blog.naver.com/sonsarang38/222427416020', 'https://sell.storefarm.naver.com/#/home/about', 'https://nid.naver.com/nidlogin.login?mode=form&url=https%3A%2F%2Fwww.naver.com', 'https://happybean.naver.com', 'https://finance.naver.com/world/sise.nhn?symbol=DJI@DJI', 'https://help.naver.com/support/service/main.help?serviceNo=605&categoryNo=1991', 'https://post.naver.com/viewer/postView.naver?volumeNo=31881668&memberNo=46637709', 'https://help.naver.com/support/alias/search/word/word_16.naver', 'https://naver.github.io', 'more.html', 'https://jr.naver.com', 'https://blog.naver.com/sonsarang38/222425751461'}\n"
     ]
    }
   ],
   "source": [
    "'''\n",
    "1. 원하는 웹페이지에 접속하여 HTML 데이터를 받아온다.\n",
    "2. 받아온 HTML 데이터를 분석가능한 형태로 가공한다.\n",
    "3. 원하는 데이터를  추출한다.\n",
    "'''\n",
    "\n",
    "import requests\n",
    "from bs4 import BeautifulSoup\n",
    "from requests_html import HTMLSession\n",
    "\n",
    "session = HTMLSession()\n",
    "response = session.get('https://www.naver.com')\n",
    "print(response.html.links)"
   ]
  },
  {
   "cell_type": "code",
   "execution_count": null,
   "metadata": {},
   "outputs": [],
   "source": []
  }
 ],
 "metadata": {
  "kernelspec": {
   "display_name": "Python 3",
   "language": "python",
   "name": "python3"
  },
  "language_info": {
   "codemirror_mode": {
    "name": "ipython",
    "version": 3
   },
   "file_extension": ".py",
   "mimetype": "text/x-python",
   "name": "python",
   "nbconvert_exporter": "python",
   "pygments_lexer": "ipython3",
   "version": "3.8.3"
  }
 },
 "nbformat": 4,
 "nbformat_minor": 4
}
