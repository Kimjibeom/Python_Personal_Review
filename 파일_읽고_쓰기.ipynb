{
  "nbformat": 4,
  "nbformat_minor": 0,
  "metadata": {
    "colab": {
      "name": "파일 읽고 쓰기.ipynb",
      "provenance": [],
      "authorship_tag": "ABX9TyNFpQfz/Inly+0BQ+uLyuTa",
      "include_colab_link": true
    },
    "kernelspec": {
      "name": "python3",
      "display_name": "Python 3"
    },
    "language_info": {
      "name": "python"
    }
  },
  "cells": [
    {
      "cell_type": "markdown",
      "metadata": {
        "id": "view-in-github",
        "colab_type": "text"
      },
      "source": [
        "<a href=\"https://colab.research.google.com/github/Kimjibeom/Python_Personal_Review/blob/main/%ED%8C%8C%EC%9D%BC_%EC%9D%BD%EA%B3%A0_%EC%93%B0%EA%B8%B0.ipynb\" target=\"_parent\"><img src=\"https://colab.research.google.com/assets/colab-badge.svg\" alt=\"Open In Colab\"/></a>"
      ]
    },
    {
      "cell_type": "code",
      "metadata": {
        "id": "rFpnW5oDHplF"
      },
      "source": [
        "# 파이썬에서 파일 읽고 쓰기\n",
        "\n",
        "file = open('sample.txt', mode ='w')\n",
        "file.write('hello python')\n",
        "file.close() # 파일 사용 후 close() 하지 않으면 다른 프로그램 및 객체에서 접근하지 못하는 현상이 생길 수 있다."
      ],
      "execution_count": 1,
      "outputs": []
    },
    {
      "cell_type": "code",
      "metadata": {
        "colab": {
          "base_uri": "https://localhost:8080/"
        },
        "id": "ws6KcNBrINna",
        "outputId": "35ca8f1b-787f-4781-9077-07cf77270cde"
      },
      "source": [
        "rfile = open('sample.txt', mode='r')\n",
        "content = rfile.read()\n",
        "rfile.close()\n",
        "\n",
        "print(content)"
      ],
      "execution_count": 3,
      "outputs": [
        {
          "output_type": "stream",
          "text": [
            "hello python\n"
          ],
          "name": "stdout"
        }
      ]
    },
    {
      "cell_type": "code",
      "metadata": {
        "id": "n_zFCjunItN4"
      },
      "source": [
        "file = open('sample.txt', mode ='w', encoding='utf-8') # 인코딩을 바꾸면 한글이 깨지지 않음\n",
        "file.write('안녕 파이썬')\n",
        "file.close()"
      ],
      "execution_count": 8,
      "outputs": []
    },
    {
      "cell_type": "code",
      "metadata": {
        "colab": {
          "base_uri": "https://localhost:8080/"
        },
        "id": "xjk1tN9AIyQz",
        "outputId": "cf0851e7-7fa1-494e-b648-66b117e4d325"
      },
      "source": [
        "rfile = open('sample.txt', mode='r', encoding='utf-8')\n",
        "content = rfile.read() \n",
        "rfile.close()\n",
        "\n",
        "print(content)"
      ],
      "execution_count": 10,
      "outputs": [
        {
          "output_type": "stream",
          "text": [
            "안녕 파이썬\n"
          ],
          "name": "stdout"
        }
      ]
    },
    {
      "cell_type": "code",
      "metadata": {
        "colab": {
          "base_uri": "https://localhost:8080/"
        },
        "id": "c2OxkwQzJI1Z",
        "outputId": "d40f8f43-3b21-406e-b7a1-34640e089a3f"
      },
      "source": [
        "rfile = open('sample.txt', mode='r', encoding='utf-8')\n",
        "\n",
        "for l in rfile:         # 한 줄씩 출력하기\n",
        "  print(l) \n",
        "rfile.close()\n",
        "\n",
        "print(content)"
      ],
      "execution_count": 13,
      "outputs": [
        {
          "output_type": "stream",
          "text": [
            "안녕 파이썬\n",
            "안녕 파이썬\n"
          ],
          "name": "stdout"
        }
      ]
    },
    {
      "cell_type": "code",
      "metadata": {
        "colab": {
          "base_uri": "https://localhost:8080/"
        },
        "id": "XKH6AFn7J_vf",
        "outputId": "3c0ae4e0-baed-49ac-81fe-3a78f57bbc8b"
      },
      "source": [
        "rfile = open('sample.txt', mode='r', encoding='utf-8')\n",
        "\n",
        "a = rfile.read(10)\n",
        "print(rfile.tell())   # 파일 포인터\n",
        "rfile.seek(0)\n",
        "print(a)\n",
        "a = rfile.read(10)\n",
        "print(a)\n",
        "rfile.close()"
      ],
      "execution_count": 20,
      "outputs": [
        {
          "output_type": "stream",
          "text": [
            "16\n",
            "안녕 파이썬\n",
            "안녕 파이썬\n"
          ],
          "name": "stdout"
        }
      ]
    },
    {
      "cell_type": "code",
      "metadata": {
        "colab": {
          "base_uri": "https://localhost:8080/"
        },
        "id": "7GD65KAfKmIO",
        "outputId": "2a4c5149-b98a-4b43-9e96-a19de881e704"
      },
      "source": [
        "with open('sample.txt', mode='r', encoding='utf-8') as file:  # with 문\n",
        "  print(file.read())"
      ],
      "execution_count": 21,
      "outputs": [
        {
          "output_type": "stream",
          "text": [
            "안녕 파이썬\n"
          ],
          "name": "stdout"
        }
      ]
    },
    {
      "cell_type": "code",
      "metadata": {
        "id": "fW0t7biGLJT0"
      },
      "source": [
        "with open('sample.txt', mode='r', encoding='utf-8') as s , \\  # \\ : 다음줄도 같은줄임을 알려줌\n",
        " open('sample2.txt', mode='w', encoding='utf-8')as t:\n",
        "  t.write(s.read().replace('파이썬','Python'))    # 파이썬을 영문으로 바꿔주기"
      ],
      "execution_count": 27,
      "outputs": []
    },
    {
      "cell_type": "code",
      "metadata": {
        "colab": {
          "base_uri": "https://localhost:8080/"
        },
        "id": "yYYKE4r5LpJb",
        "outputId": "74bfb094-7bde-41cf-d09e-f9b9af65d364"
      },
      "source": [
        "with open('sample2.txt', mode='r', encoding='utf-8') as file:  # with 문\n",
        " print(file.read())"
      ],
      "execution_count": 28,
      "outputs": [
        {
          "output_type": "stream",
          "text": [
            "안녕 Python\n"
          ],
          "name": "stdout"
        }
      ]
    },
    {
      "cell_type": "code",
      "metadata": {
        "id": "90JLXmWbL6J5"
      },
      "source": [
        ""
      ],
      "execution_count": null,
      "outputs": []
    }
  ]
}