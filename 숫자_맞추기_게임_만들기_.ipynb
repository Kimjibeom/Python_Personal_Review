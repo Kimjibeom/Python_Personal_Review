{
  "nbformat": 4,
  "nbformat_minor": 0,
  "metadata": {
    "colab": {
      "name": "숫자 맞추기 게임 만들기 .ipynb",
      "provenance": [],
      "authorship_tag": "ABX9TyNHCbPNvV5v9do+Gr764/kI",
      "include_colab_link": true
    },
    "kernelspec": {
      "name": "python3",
      "display_name": "Python 3"
    },
    "language_info": {
      "name": "python"
    }
  },
  "cells": [
    {
      "cell_type": "markdown",
      "metadata": {
        "id": "view-in-github",
        "colab_type": "text"
      },
      "source": [
        "<a href=\"https://colab.research.google.com/github/Kimjibeom/Python_Personal_Review/blob/main/%EC%88%AB%EC%9E%90_%EB%A7%9E%EC%B6%94%EA%B8%B0_%EA%B2%8C%EC%9E%84_%EB%A7%8C%EB%93%A4%EA%B8%B0_.ipynb\" target=\"_parent\"><img src=\"https://colab.research.google.com/assets/colab-badge.svg\" alt=\"Open In Colab\"/></a>"
      ]
    },
    {
      "cell_type": "code",
      "metadata": {
        "colab": {
          "base_uri": "https://localhost:8080/"
        },
        "id": "unRxGTcs_Hh0",
        "outputId": "42ee3c73-e6ad-4132-84bd-33817da3103d"
      },
      "source": [
        "import random\n",
        "\n",
        "chance = 10\n",
        "count = 0\n",
        "\n",
        "number = random.randint(1,99)\n",
        "\n",
        "while count < chance:\n",
        "  count += 1\n",
        "  user_input = input('몇 일까요?')\n",
        "  if number == user_input:\n",
        "    print('정답!')\n",
        "    break\n",
        "  else:\n",
        "    print('아닙니다.')"
      ],
      "execution_count": 1,
      "outputs": [
        {
          "output_type": "stream",
          "text": [
            "몇 일까요?6\n",
            "아닙니다.\n",
            "몇 일까요?7\n",
            "아닙니다.\n",
            "몇 일까요?17\n",
            "아닙니다.\n",
            "몇 일까요?18\n",
            "아닙니다.\n",
            "몇 일까요?23\n",
            "아닙니다.\n",
            "몇 일까요?69\n",
            "아닙니다.\n",
            "몇 일까요?57\n",
            "아닙니다.\n",
            "몇 일까요?46\n",
            "아닙니다.\n",
            "몇 일까요?43\n",
            "아닙니다.\n",
            "몇 일까요?1\n",
            "아닙니다.\n"
          ],
          "name": "stdout"
        }
      ]
    },
    {
      "cell_type": "markdown",
      "metadata": {
        "id": "PXhDF5QEBL_y"
      },
      "source": [
        "힌트 추가"
      ]
    },
    {
      "cell_type": "code",
      "metadata": {
        "colab": {
          "base_uri": "https://localhost:8080/"
        },
        "id": "s-jYD-yZBLsv",
        "outputId": "05da00a9-fbe7-447a-dde5-2e1415a35dd7"
      },
      "source": [
        "import random\n",
        "\n",
        "chance = 10\n",
        "count = 0\n",
        "\n",
        "number = random.randint(1,99)\n",
        "\n",
        "while count < chance:\n",
        "  count += 1\n",
        "  user_input = int(input('몇 일까요?'))\n",
        "  if number == user_input:\n",
        "    print('정답!')\n",
        "    break\n",
        "  elif user_input < number:\n",
        "    print('{} 보다 큰 숫자 입니다.'.format(user_input))\n",
        "  elif user_input > number:\n",
        "    print('{} 보다 작은 숫자 입니다.'.format(user_input))\n",
        "\n",
        "if user_input == number:\n",
        "  print('성공! {} 이 맞습니다.'.format(number))\n",
        "else:\n",
        "    print('실패, 정답은 {} 입니다.'.format(number))"
      ],
      "execution_count": 3,
      "outputs": [
        {
          "output_type": "stream",
          "text": [
            "몇 일까요?99\n",
            "99 보다 작은 숫자 입니다.\n",
            "몇 일까요?50\n",
            "50 보다 큰 숫자 입니다.\n",
            "몇 일까요?78\n",
            "78 보다 큰 숫자 입니다.\n",
            "몇 일까요?89\n",
            "89 보다 작은 숫자 입니다.\n",
            "몇 일까요?85\n",
            "85 보다 큰 숫자 입니다.\n",
            "몇 일까요?87\n",
            "정답!\n",
            "성공! 87 이 맞습니다.\n"
          ],
          "name": "stdout"
        }
      ]
    }
  ]
}