{
  "nbformat": 4,
  "nbformat_minor": 0,
  "metadata": {
    "colab": {
      "name": "사용자 입력 받기.ipynb",
      "provenance": [],
      "authorship_tag": "ABX9TyN60lHUi9H3wLhh8GDo5nDJ",
      "include_colab_link": true
    },
    "kernelspec": {
      "name": "python3",
      "display_name": "Python 3"
    },
    "language_info": {
      "name": "python"
    }
  },
  "cells": [
    {
      "cell_type": "markdown",
      "metadata": {
        "id": "view-in-github",
        "colab_type": "text"
      },
      "source": [
        "<a href=\"https://colab.research.google.com/github/Kimjibeom/Python_Personal_Review/blob/main/%EC%82%AC%EC%9A%A9%EC%9E%90_%EC%9E%85%EB%A0%A5_%EB%B0%9B%EA%B8%B0.ipynb\" target=\"_parent\"><img src=\"https://colab.research.google.com/assets/colab-badge.svg\" alt=\"Open In Colab\"/></a>"
      ]
    },
    {
      "cell_type": "code",
      "metadata": {
        "colab": {
          "base_uri": "https://localhost:8080/"
        },
        "id": "wib43Pesbtb-",
        "outputId": "39c1d3d4-0b23-4589-a90a-ca4d6f19359e"
      },
      "source": [
        "# 사용자 입력 받기\n",
        "\n",
        "user = input('사용자 이름을 입력하세요.')\n",
        "print(user)"
      ],
      "execution_count": 1,
      "outputs": [
        {
          "output_type": "stream",
          "text": [
            "사용자 이름을 입력하세요.김지범\n",
            "김지범\n"
          ],
          "name": "stdout"
        }
      ]
    },
    {
      "cell_type": "code",
      "metadata": {
        "colab": {
          "base_uri": "https://localhost:8080/"
        },
        "id": "YqlbvNi-dNd4",
        "outputId": "372df092-6216-45a2-e7ee-0b08f8091bf9"
      },
      "source": [
        "num1 = int(input('숫자1:'))\n",
        "num2 = int(input('숫자2:'))\n",
        "print(num1 + num2)"
      ],
      "execution_count": 2,
      "outputs": [
        {
          "output_type": "stream",
          "text": [
            "숫자1:2\n",
            "숫자2:3\n",
            "5\n"
          ],
          "name": "stdout"
        }
      ]
    },
    {
      "cell_type": "code",
      "metadata": {
        "colab": {
          "base_uri": "https://localhost:8080/"
        },
        "id": "cTXUsLcgeZU_",
        "outputId": "4a88ee0b-1a09-4fc4-8afe-f20f135f36f0"
      },
      "source": [
        "langs = ['한국어','English']\n",
        "for i, l in enumerate(langs, start= 1):\n",
        "  print('{}. {}'.format(i, l))\n",
        "\n",
        "while True:\n",
        "  sel = int(input('언어를 선택하세요.>'))\n",
        "  if 0 < sel < 3:\n",
        "    break\n",
        "print('사용자가 선택한 언어는 {} 입니다.'.format(langs[sel-1]))"
      ],
      "execution_count": 3,
      "outputs": [
        {
          "output_type": "stream",
          "text": [
            "1. 한국어\n",
            "2. English\n",
            "언어를 선택하세요.>1\n",
            "사용자가 선택한 언어는 한국어 입니다.\n"
          ],
          "name": "stdout"
        }
      ]
    },
    {
      "cell_type": "code",
      "metadata": {
        "id": "FI2kkk1oe6sb",
        "colab": {
          "base_uri": "https://localhost:8080/"
        },
        "outputId": "7dc5f532-53b4-41e7-df3a-ad97e732cf3f"
      },
      "source": [
        "# langs = ['한국어','English']\n",
        "# for i, l in enumerate(langs, start= 1):\n",
        "#   print('{}. {}'.format(i, l))\n",
        "\n",
        "# while True:\n",
        "#   sel = int(input('언어를 선택하세요.>'))\n",
        "#   if not sel.isnumeric():\n",
        "#     continue\n",
        "#   sel = int(sel)\n",
        "#   if 0 < sel < 3:\n",
        "#     break\n",
        "# print('사용자가 선택한 언어는 {} 입니다.'.format(langs[sel-1]))\n",
        "\n",
        "\n",
        "# 입력한 숫자가 소수인지\n",
        "\n",
        "while True:\n",
        "  num = input(' 2 이상의 숫자를 입력하세요> ')\n",
        "  if not num.isnumeric():\n",
        "    continue\n",
        "  num = int(num)\n",
        "  if num < 2:\n",
        "    continue\n",
        "  break\n",
        "\n",
        "isprime = True\n",
        "for n in range(2, num):\n",
        "  if num % n ==0:\n",
        "    isprime =False\n",
        "    break\n",
        "\n",
        "if isprime:\n",
        "  print('소수 입니다.')\n",
        "else:\n",
        "  print('소수가 아닙니다.')"
      ],
      "execution_count": 9,
      "outputs": [
        {
          "output_type": "stream",
          "text": [
            " 2 이상의 숫자를 입력하세요> 8\n",
            "소수가 아닙니다.\n"
          ],
          "name": "stdout"
        }
      ]
    },
    {
      "cell_type": "code",
      "metadata": {
        "colab": {
          "base_uri": "https://localhost:8080/"
        },
        "id": "-VPJp_LwNqZ5",
        "outputId": "eb2d45c7-2791-43e0-8c16-c68687e4d9b6"
      },
      "source": [
        "while True:\n",
        "  num = input(' 2 이상의 숫자를 입력하세요> ')\n",
        "  if not num.isnumeric():\n",
        "    continue\n",
        "  num = int(num)\n",
        "  if num < 2:\n",
        "    continue\n",
        "  break\n",
        "\n",
        "prime_list = [False, False] + [True] * (num -1)\n",
        "primes = []\n",
        "\n",
        "for i in range(2, num +1):\n",
        "  if prime_list[i]:\n",
        "    for j in range(2*i, num + 1, i):\n",
        "      prime_list[j] = False\n",
        "\n",
        "primes = [i for i in range(2, num+1) if prime_list[i] == True]\n",
        "print(primes)\n",
        "\n",
        "if num in primes:\n",
        "  print('소수 입니다.')\n",
        "else:\n",
        "  print('소수가 아닙니다.')"
      ],
      "execution_count": 21,
      "outputs": [
        {
          "output_type": "stream",
          "text": [
            " 2 이상의 숫자를 입력하세요> 88\n",
            "[2, 3, 5, 7, 11, 13, 17, 19, 23, 29, 31, 37, 41, 43, 47, 53, 59, 61, 67, 71, 73, 79, 83]\n",
            "소수가 아닙니다.\n"
          ],
          "name": "stdout"
        }
      ]
    }
  ]
}