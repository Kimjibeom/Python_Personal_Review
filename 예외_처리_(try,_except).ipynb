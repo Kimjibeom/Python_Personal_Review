{
  "nbformat": 4,
  "nbformat_minor": 0,
  "metadata": {
    "colab": {
      "name": "예외 처리 (try, except).ipynb",
      "provenance": [],
      "authorship_tag": "ABX9TyNobypN2A1IUCLNyENfQm2T",
      "include_colab_link": true
    },
    "kernelspec": {
      "name": "python3",
      "display_name": "Python 3"
    },
    "language_info": {
      "name": "python"
    }
  },
  "cells": [
    {
      "cell_type": "markdown",
      "metadata": {
        "id": "view-in-github",
        "colab_type": "text"
      },
      "source": [
        "<a href=\"https://colab.research.google.com/github/Kimjibeom/Python_Personal_Review/blob/main/%EC%98%88%EC%99%B8_%EC%B2%98%EB%A6%AC_(try%2C_except).ipynb\" target=\"_parent\"><img src=\"https://colab.research.google.com/assets/colab-badge.svg\" alt=\"Open In Colab\"/></a>"
      ]
    },
    {
      "cell_type": "code",
      "metadata": {
        "colab": {
          "base_uri": "https://localhost:8080/"
        },
        "id": "gNWFjT-FHZrU",
        "outputId": "93da7175-e50b-402a-86f3-632090392fb0"
      },
      "source": [
        "# 파이썬 예외처리 try/ except\n",
        "\n",
        "try:\n",
        "  val = '10.5'\n",
        "  n= int(val)\n",
        "except:\n",
        "  print('오류 발생')"
      ],
      "execution_count": 1,
      "outputs": [
        {
          "output_type": "stream",
          "text": [
            "오류 발생\n"
          ],
          "name": "stdout"
        }
      ]
    },
    {
      "cell_type": "code",
      "metadata": {
        "colab": {
          "base_uri": "https://localhost:8080/"
        },
        "id": "U6lCBPRqHxkq",
        "outputId": "897e9242-f006-4367-d306-c391f97eebac"
      },
      "source": [
        "# 파이썬 예외처리 try/ except\n",
        "\n",
        "try:\n",
        "  val = '10.5'\n",
        "  n= int(val)\n",
        "except ValueError as e:\n",
        "  print('오류 발생{}'.format(e))"
      ],
      "execution_count": 4,
      "outputs": [
        {
          "output_type": "stream",
          "text": [
            "오류 발생invalid literal for int() with base 10: '10.5'\n"
          ],
          "name": "stdout"
        }
      ]
    },
    {
      "cell_type": "code",
      "metadata": {
        "colab": {
          "base_uri": "https://localhost:8080/"
        },
        "id": "3LKlm-Y-IG1S",
        "outputId": "a48f25de-189c-46f2-90a5-4dbe612bed91"
      },
      "source": [
        "try:\n",
        "  idx = []\n",
        "  idx[0] = 100\n",
        "except IndexError as e:\n",
        "  print('오류 발생{}'.format(e))"
      ],
      "execution_count": 8,
      "outputs": [
        {
          "output_type": "stream",
          "text": [
            "오류 발생list assignment index out of range\n"
          ],
          "name": "stdout"
        }
      ]
    },
    {
      "cell_type": "code",
      "metadata": {
        "colab": {
          "base_uri": "https://localhost:8080/"
        },
        "id": "IaDbWBvOIURZ",
        "outputId": "e1838525-8bac-4276-c933-780165161c2b"
      },
      "source": [
        "try:\n",
        "  idx = []\n",
        "  idx[0] = 100\n",
        "except Exception as e:\n",
        "  print('오류 발생{}'.format(e))"
      ],
      "execution_count": 9,
      "outputs": [
        {
          "output_type": "stream",
          "text": [
            "오류 발생list assignment index out of range\n"
          ],
          "name": "stdout"
        }
      ]
    },
    {
      "cell_type": "code",
      "metadata": {
        "colab": {
          "base_uri": "https://localhost:8080/"
        },
        "id": "j-XjCSj7Ibup",
        "outputId": "0efbffb1-ac07-4a74-bd7a-32212948eb83"
      },
      "source": [
        "try:\n",
        "  idx = []\n",
        "  idx[0] =100\n",
        "except:\n",
        "  pass\n",
        "\n",
        "print('OK')"
      ],
      "execution_count": 11,
      "outputs": [
        {
          "output_type": "stream",
          "text": [
            "OK\n"
          ],
          "name": "stdout"
        }
      ]
    },
    {
      "cell_type": "code",
      "metadata": {
        "colab": {
          "base_uri": "https://localhost:8080/"
        },
        "id": "8DkEOWzTI2Wx",
        "outputId": "f83385b2-208a-4fe1-bb82-15b6e6b5c8d8"
      },
      "source": [
        "try:\n",
        "  n = '10'\n",
        "  v = int(n)\n",
        "except:\n",
        "  print('오류발생')\n",
        "else:\n",
        "  print('장상 동작 확인')"
      ],
      "execution_count": 14,
      "outputs": [
        {
          "output_type": "stream",
          "text": [
            "장상 동작 확인\n"
          ],
          "name": "stdout"
        }
      ]
    },
    {
      "cell_type": "code",
      "metadata": {
        "id": "oAiVt4cEJzum"
      },
      "source": [
        "file = open('sample.txt', mode ='w')\n",
        "file.write('hello python')\n",
        "file.close()"
      ],
      "execution_count": 17,
      "outputs": []
    },
    {
      "cell_type": "code",
      "metadata": {
        "colab": {
          "base_uri": "https://localhost:8080/"
        },
        "id": "z41fm4yyJUf2",
        "outputId": "de30ddb0-6757-4b5a-b9ad-53a623fbabc3"
      },
      "source": [
        "try:\n",
        "  file = open('sample.txt', 'r')\n",
        "  n = '10.5'\n",
        "  v = int(n)\n",
        "except:\n",
        "  print('오류발생')\n",
        "finally:\n",
        "  file.close()\n",
        "  print('파이널리 호출')"
      ],
      "execution_count": 18,
      "outputs": [
        {
          "output_type": "stream",
          "text": [
            "오류발생\n",
            "파이널리 호출\n"
          ],
          "name": "stdout"
        }
      ]
    }
  ]
}