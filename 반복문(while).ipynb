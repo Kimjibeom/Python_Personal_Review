{
  "nbformat": 4,
  "nbformat_minor": 0,
  "metadata": {
    "colab": {
      "name": "반복문(while).ipynb",
      "provenance": [],
      "authorship_tag": "ABX9TyM/AyZ59iSlshw84XnY2+IO",
      "include_colab_link": true
    },
    "kernelspec": {
      "name": "python3",
      "display_name": "Python 3"
    },
    "language_info": {
      "name": "python"
    }
  },
  "cells": [
    {
      "cell_type": "markdown",
      "metadata": {
        "id": "view-in-github",
        "colab_type": "text"
      },
      "source": [
        "<a href=\"https://colab.research.google.com/github/Kimjibeom/Python_Personal_Review/blob/main/%EB%B0%98%EB%B3%B5%EB%AC%B8(while).ipynb\" target=\"_parent\"><img src=\"https://colab.research.google.com/assets/colab-badge.svg\" alt=\"Open In Colab\"/></a>"
      ]
    },
    {
      "cell_type": "code",
      "metadata": {
        "colab": {
          "base_uri": "https://localhost:8080/"
        },
        "id": "EOnWRSqm32Zk",
        "outputId": "83c4d1d9-3ce0-458b-eac6-aec83586d765"
      },
      "source": [
        "# 반복문 while\n",
        "\n",
        "guest = 1\n",
        "while guest < 10:\n",
        "  print('손님이 {} 명 입니다.'.format(guest))\n",
        "  guest = guest +1\n",
        "  if guest ==10:\n",
        "    print('손님이 꽉 찼습니다.')"
      ],
      "execution_count": 4,
      "outputs": [
        {
          "output_type": "stream",
          "text": [
            "손님이 1 명 입니다.\n",
            "손님이 2 명 입니다.\n",
            "손님이 3 명 입니다.\n",
            "손님이 4 명 입니다.\n",
            "손님이 5 명 입니다.\n",
            "손님이 6 명 입니다.\n",
            "손님이 7 명 입니다.\n",
            "손님이 8 명 입니다.\n",
            "손님이 9 명 입니다.\n",
            "손님이 꽉 찼습니다.\n"
          ],
          "name": "stdout"
        }
      ]
    },
    {
      "cell_type": "code",
      "metadata": {
        "colab": {
          "base_uri": "https://localhost:8080/"
        },
        "id": "zoks4DKc4UcQ",
        "outputId": "cee7615a-1175-4faf-fb03-3e425fff88ce"
      },
      "source": [
        "num = 1\n",
        "jjak = 0\n",
        "hol = 0\n",
        "while num <= 10:\n",
        "  if num % 2 ==0:\n",
        "    print('짝 {}'.format(num))\n",
        "    jjak += num\n",
        "  else:\n",
        "    print('홀 {}'.format(num))\n",
        "    hol += num\n",
        "  num += 1\n",
        "\n",
        "print('홀 합 {}'.format(hol))\n",
        "print('짝 합 {}'.format(jjak))"
      ],
      "execution_count": 8,
      "outputs": [
        {
          "output_type": "stream",
          "text": [
            "홀 1\n",
            "짝 2\n",
            "홀 3\n",
            "짝 4\n",
            "홀 5\n",
            "짝 6\n",
            "홀 7\n",
            "짝 8\n",
            "홀 9\n",
            "짝 10\n",
            "홀 합 25\n",
            "짝 합 30\n"
          ],
          "name": "stdout"
        }
      ]
    },
    {
      "cell_type": "code",
      "metadata": {
        "colab": {
          "base_uri": "https://localhost:8080/"
        },
        "id": "wJthOdFz5Bha",
        "outputId": "3a1b9dd4-f261-4c2b-8477-2ccfb3d893e7"
      },
      "source": [
        "num = 1\n",
        "hap = 0\n",
        "while num <= 100:\n",
        "  hap += num\n",
        "  num += 1\n",
        "\n",
        "print(hap)"
      ],
      "execution_count": 10,
      "outputs": [
        {
          "output_type": "stream",
          "text": [
            "5050\n"
          ],
          "name": "stdout"
        }
      ]
    },
    {
      "cell_type": "code",
      "metadata": {
        "id": "j_7Wnrll6GDd"
      },
      "source": [
        ""
      ],
      "execution_count": null,
      "outputs": []
    }
  ]
}