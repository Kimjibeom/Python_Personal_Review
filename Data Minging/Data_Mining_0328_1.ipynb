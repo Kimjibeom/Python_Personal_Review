{
  "nbformat": 4,
  "nbformat_minor": 0,
  "metadata": {
    "colab": {
      "name": "Data_Mining_0328_1.ipynb",
      "provenance": []
    },
    "kernelspec": {
      "name": "python3",
      "display_name": "Python 3"
    },
    "language_info": {
      "name": "python"
    }
  },
  "cells": [
    {
      "cell_type": "code",
      "execution_count": 1,
      "metadata": {
        "id": "22GP3imfiPYX"
      },
      "outputs": [],
      "source": [
        "import numpy as np"
      ]
    },
    {
      "cell_type": "markdown",
      "source": [
        "13 page "
      ],
      "metadata": {
        "id": "a_2jTOtTkFJp"
      }
    },
    {
      "cell_type": "code",
      "source": [
        "a = np.arange(25).reshape(5,5)"
      ],
      "metadata": {
        "id": "q_cVpHvbiUJT"
      },
      "execution_count": 2,
      "outputs": []
    },
    {
      "cell_type": "code",
      "source": [
        "print(a)"
      ],
      "metadata": {
        "colab": {
          "base_uri": "https://localhost:8080/"
        },
        "id": "EauPaHXxiaMD",
        "outputId": "cc36411c-764b-40f1-8102-da557c281fc9"
      },
      "execution_count": 3,
      "outputs": [
        {
          "output_type": "stream",
          "name": "stdout",
          "text": [
            "[[ 0  1  2  3  4]\n",
            " [ 5  6  7  8  9]\n",
            " [10 11 12 13 14]\n",
            " [15 16 17 18 19]\n",
            " [20 21 22 23 24]]\n"
          ]
        }
      ]
    },
    {
      "cell_type": "code",
      "source": [
        "print(a[1,0])"
      ],
      "metadata": {
        "colab": {
          "base_uri": "https://localhost:8080/"
        },
        "id": "K7YUfyp8ibXB",
        "outputId": "aa00d426-f809-4b5c-dc8b-7e230e1c1fa9"
      },
      "execution_count": 5,
      "outputs": [
        {
          "output_type": "stream",
          "name": "stdout",
          "text": [
            "5\n"
          ]
        }
      ]
    },
    {
      "cell_type": "code",
      "source": [
        "print(a[1,2])"
      ],
      "metadata": {
        "colab": {
          "base_uri": "https://localhost:8080/"
        },
        "id": "7M2vEkRRjyWF",
        "outputId": "a1dbabb7-bd71-4954-97a1-598341287f0b"
      },
      "execution_count": 7,
      "outputs": [
        {
          "output_type": "stream",
          "name": "stdout",
          "text": [
            "7\n"
          ]
        }
      ]
    },
    {
      "cell_type": "code",
      "source": [
        "print(a[3,0])"
      ],
      "metadata": {
        "colab": {
          "base_uri": "https://localhost:8080/"
        },
        "id": "zyQ0r4wBj4yv",
        "outputId": "bbd962f0-5299-4b0c-901c-71157724db04"
      },
      "execution_count": 8,
      "outputs": [
        {
          "output_type": "stream",
          "name": "stdout",
          "text": [
            "15\n"
          ]
        }
      ]
    },
    {
      "cell_type": "code",
      "source": [
        "print(a[3,2])"
      ],
      "metadata": {
        "colab": {
          "base_uri": "https://localhost:8080/"
        },
        "id": "DD3Oe7Maj8k4",
        "outputId": "4ca46fd3-eda3-41fc-e808-ad80e882be09"
      },
      "execution_count": 9,
      "outputs": [
        {
          "output_type": "stream",
          "name": "stdout",
          "text": [
            "17\n"
          ]
        }
      ]
    },
    {
      "cell_type": "code",
      "source": [
        "print(a[4])"
      ],
      "metadata": {
        "colab": {
          "base_uri": "https://localhost:8080/"
        },
        "id": "7W58Cf0Wj-b7",
        "outputId": "aa8ae17e-a735-44fc-aca4-37defb79456d"
      },
      "execution_count": 10,
      "outputs": [
        {
          "output_type": "stream",
          "name": "stdout",
          "text": [
            "[20 21 22 23 24]\n"
          ]
        }
      ]
    },
    {
      "cell_type": "markdown",
      "source": [
        "17 page"
      ],
      "metadata": {
        "id": "LhuGwGntkUnv"
      }
    },
    {
      "cell_type": "code",
      "source": [
        "a = np.arange(25).reshape(5,5)"
      ],
      "metadata": {
        "id": "155aoO9xkBS6"
      },
      "execution_count": 11,
      "outputs": []
    },
    {
      "cell_type": "code",
      "source": [
        "a[[0,1,2,3],\n",
        "  [3,1,0,4]]"
      ],
      "metadata": {
        "colab": {
          "base_uri": "https://localhost:8080/"
        },
        "id": "Tpe5GCUEkZ9m",
        "outputId": "afae8900-9dfd-4cf2-f447-fdfd91751fbc"
      },
      "execution_count": 13,
      "outputs": [
        {
          "output_type": "execute_result",
          "data": {
            "text/plain": [
              "array([ 3,  6, 10, 19])"
            ]
          },
          "metadata": {},
          "execution_count": 13
        }
      ]
    },
    {
      "cell_type": "code",
      "source": [
        "mask = np.array([\n",
        "    [0,0,0,1,0],\n",
        "    [0,1,0,0,1],\n",
        "    [0,0,1,0,0],\n",
        "    [1,0,0,1,0],\n",
        "    [0,1,0,0,1]], dtype=bool\n",
        ")"
      ],
      "metadata": {
        "id": "oGGOnklulX72"
      },
      "execution_count": 15,
      "outputs": []
    },
    {
      "cell_type": "code",
      "source": [
        "a[mask]"
      ],
      "metadata": {
        "colab": {
          "base_uri": "https://localhost:8080/"
        },
        "id": "LmPtNwr4mUmh",
        "outputId": "92f3f9cf-3408-462b-c47b-9348213dd153"
      },
      "execution_count": 16,
      "outputs": [
        {
          "output_type": "execute_result",
          "data": {
            "text/plain": [
              "array([ 3,  6,  9, 12, 15, 18, 21, 24])"
            ]
          },
          "metadata": {},
          "execution_count": 16
        }
      ]
    },
    {
      "cell_type": "markdown",
      "source": [
        "31 page"
      ],
      "metadata": {
        "id": "0fffroD3mktv"
      }
    },
    {
      "cell_type": "code",
      "source": [
        "a = np.arange(-15, 15).reshape(5,6) ** 2"
      ],
      "metadata": {
        "id": "i_KNqfURmdfU"
      },
      "execution_count": 17,
      "outputs": []
    },
    {
      "cell_type": "code",
      "source": [
        "print(a)"
      ],
      "metadata": {
        "colab": {
          "base_uri": "https://localhost:8080/"
        },
        "id": "LJK1c5rbmsGD",
        "outputId": "85f2d10e-4ab6-4289-ed96-7f2d6a3f547f"
      },
      "execution_count": 19,
      "outputs": [
        {
          "output_type": "stream",
          "name": "stdout",
          "text": [
            "[[225 196 169 144 121 100]\n",
            " [ 81  64  49  36  25  16]\n",
            " [  9   4   1   0   1   4]\n",
            " [  9  16  25  36  49  64]\n",
            " [ 81 100 121 144 169 196]]\n"
          ]
        }
      ]
    },
    {
      "cell_type": "code",
      "source": [
        "a.max(axis=0)"
      ],
      "metadata": {
        "colab": {
          "base_uri": "https://localhost:8080/"
        },
        "id": "AYvTS_7yms6U",
        "outputId": "0be9b264-6156-4508-8d4a-4ae760055cef"
      },
      "execution_count": 20,
      "outputs": [
        {
          "output_type": "execute_result",
          "data": {
            "text/plain": [
              "array([225, 196, 169, 144, 169, 196])"
            ]
          },
          "metadata": {},
          "execution_count": 20
        }
      ]
    },
    {
      "cell_type": "code",
      "source": [
        "a.mean(axis=1)"
      ],
      "metadata": {
        "colab": {
          "base_uri": "https://localhost:8080/"
        },
        "id": "sBib0XiGnAwp",
        "outputId": "de2b3c57-5ea9-4873-d145-c3359bb44586"
      },
      "execution_count": 21,
      "outputs": [
        {
          "output_type": "execute_result",
          "data": {
            "text/plain": [
              "array([159.16666667,  45.16666667,   3.16666667,  33.16666667,\n",
              "       135.16666667])"
            ]
          },
          "metadata": {},
          "execution_count": 21
        }
      ]
    },
    {
      "cell_type": "code",
      "source": [
        "a.argmin()"
      ],
      "metadata": {
        "colab": {
          "base_uri": "https://localhost:8080/"
        },
        "id": "vLbzzhKenJk_",
        "outputId": "dfbec2f2-16ac-4fce-c285-93d34996a4ea"
      },
      "execution_count": 22,
      "outputs": [
        {
          "output_type": "execute_result",
          "data": {
            "text/plain": [
              "15"
            ]
          },
          "metadata": {},
          "execution_count": 22
        }
      ]
    },
    {
      "cell_type": "markdown",
      "source": [
        "# Array Broadcasting"
      ],
      "metadata": {
        "id": "1SuV3rpIntBL"
      }
    },
    {
      "cell_type": "markdown",
      "source": [
        "* RULE 1: PREPEND ONES TO SMALLER ARRAY'S SHAPE"
      ],
      "metadata": {
        "id": "QDYiRhJEoV0L"
      }
    },
    {
      "cell_type": "code",
      "source": [
        "a = np.ones((3, 5)) # a.shape == (3, 5)\n",
        "b = np.ones((5,)) # b.shape == (5,)\n",
        "b.reshape(1, 5) # result is a (1,5)-shaped array.\n",
        "b[np.newaxis, :] # equivalent, more concise."
      ],
      "metadata": {
        "colab": {
          "base_uri": "https://localhost:8080/"
        },
        "id": "GldcF77gnWMz",
        "outputId": "d2c4c11a-c4e9-4bd4-cbc5-c45d3aafccca"
      },
      "execution_count": 23,
      "outputs": [
        {
          "output_type": "execute_result",
          "data": {
            "text/plain": [
              "array([[1., 1., 1., 1., 1.]])"
            ]
          },
          "metadata": {},
          "execution_count": 23
        }
      ]
    },
    {
      "cell_type": "markdown",
      "source": [
        "* RULE 2: DIMENSIONS OF SIZE 1 ARE REPEATED WITHOUT COPYING"
      ],
      "metadata": {
        "id": "8O6YkM9Xonws"
      }
    },
    {
      "cell_type": "code",
      "source": [
        "c = a + b # c.shape == (3, 5)\n",
        "# is logically equivalent to...\n",
        "tmp_b = b.reshape(1, 5)\n",
        "tmp_b_repeat = tmp_b.repeat(3, axis=0)\n",
        "c = a + tmp_b_repeat\n",
        "# But broadcasting makes no copies of \"b\"s data!"
      ],
      "metadata": {
        "id": "H5CmnOdZn9xH"
      },
      "execution_count": null,
      "outputs": []
    },
    {
      "cell_type": "markdown",
      "source": [
        "Broadcasting in Action"
      ],
      "metadata": {
        "id": "mUTt-HyRqLQT"
      }
    },
    {
      "cell_type": "code",
      "source": [
        "a = np.array([0, 10, 20, 30])"
      ],
      "metadata": {
        "id": "Bwr3ZA3yqOEb"
      },
      "execution_count": 24,
      "outputs": []
    },
    {
      "cell_type": "code",
      "source": [
        "b = np.array([0, 1, 2])"
      ],
      "metadata": {
        "id": "7Jf_qICqqTiZ"
      },
      "execution_count": 25,
      "outputs": []
    },
    {
      "cell_type": "code",
      "source": [
        "y = a[:, np.newaxis] + b"
      ],
      "metadata": {
        "id": "ybnwxYEtqYGW"
      },
      "execution_count": 26,
      "outputs": []
    },
    {
      "cell_type": "code",
      "source": [
        "print(y)"
      ],
      "metadata": {
        "colab": {
          "base_uri": "https://localhost:8080/"
        },
        "id": "YhtaDPADqea5",
        "outputId": "6617fc26-ed2b-485b-cf3c-aa504b75fd6d"
      },
      "execution_count": 27,
      "outputs": [
        {
          "output_type": "stream",
          "name": "stdout",
          "text": [
            "[[ 0  1  2]\n",
            " [10 11 12]\n",
            " [20 21 22]\n",
            " [30 31 32]]\n"
          ]
        }
      ]
    },
    {
      "cell_type": "markdown",
      "source": [
        "Application: Distance from Center"
      ],
      "metadata": {
        "id": "hyWK-T4xqjJC"
      }
    },
    {
      "cell_type": "code",
      "source": [
        "import matplotlib.pyplot as plt"
      ],
      "metadata": {
        "id": "mcyQonn1qfZf"
      },
      "execution_count": 28,
      "outputs": []
    },
    {
      "cell_type": "code",
      "source": [
        "a = np.linspace(0, 1, 15) - 0.5"
      ],
      "metadata": {
        "id": "ykdOqU3Zqrtk"
      },
      "execution_count": 29,
      "outputs": []
    },
    {
      "cell_type": "code",
      "source": [
        "b = a[:, np.newaxis] # b.shape == (15,1)"
      ],
      "metadata": {
        "id": "IvWFg7IFqwa8"
      },
      "execution_count": 30,
      "outputs": []
    },
    {
      "cell_type": "code",
      "source": [
        "dist2 = a**2 + b**2 # broadcasting sum."
      ],
      "metadata": {
        "id": "DRxe23o-q2VK"
      },
      "execution_count": 31,
      "outputs": []
    },
    {
      "cell_type": "code",
      "source": [
        "dist = np.sqrt(dist2)"
      ],
      "metadata": {
        "id": "egjnTGC9q6Vb"
      },
      "execution_count": 32,
      "outputs": []
    },
    {
      "cell_type": "code",
      "source": [
        "plt.imshow(dist)"
      ],
      "metadata": {
        "colab": {
          "base_uri": "https://localhost:8080/",
          "height": 283
        },
        "id": "YU_NMBM7q6O0",
        "outputId": "e42e1ea0-f01d-48a3-c01b-09143fd6701d"
      },
      "execution_count": 36,
      "outputs": [
        {
          "output_type": "execute_result",
          "data": {
            "text/plain": [
              "<matplotlib.image.AxesImage at 0x7fb96d995790>"
            ]
          },
          "metadata": {},
          "execution_count": 36
        },
        {
          "output_type": "display_data",
          "data": {
            "text/plain": [
              "<Figure size 432x288 with 1 Axes>"
            ],
            "image/png": "[encoded data removed]"
          },
          "metadata": {
            "needs_background": "light"
          }
        }
      ]
    },
    {
      "cell_type": "markdown",
      "source": [
        "Broadcasting Indices"
      ],
      "metadata": {
        "id": "ewYwwqj7rTjs"
      }
    },
    {
      "cell_type": "code",
      "source": [
        "data_cube = np.arange(27).reshape(3, 3, 3)"
      ],
      "metadata": {
        "id": "4YYLSlGaq-3G"
      },
      "execution_count": 43,
      "outputs": []
    },
    {
      "cell_type": "code",
      "source": [
        "print(data_cube)"
      ],
      "metadata": {
        "colab": {
          "base_uri": "https://localhost:8080/"
        },
        "id": "wOADo1XmrxVn",
        "outputId": "750d5042-51eb-435f-e5b7-b9b90dbf1479"
      },
      "execution_count": 44,
      "outputs": [
        {
          "output_type": "stream",
          "name": "stdout",
          "text": [
            "[[[ 0  1  2]\n",
            "  [ 3  4  5]\n",
            "  [ 6  7  8]]\n",
            "\n",
            " [[ 9 10 11]\n",
            "  [12 13 14]\n",
            "  [15 16 17]]\n",
            "\n",
            " [[18 19 20]\n",
            "  [21 22 23]\n",
            "  [24 25 26]]]\n"
          ]
        }
      ]
    },
    {
      "cell_type": "code",
      "source": [
        "yi, xi = np.meshgrid(np.arange(3), np.arange(3),\n",
        " sparse=True)"
      ],
      "metadata": {
        "id": "CitohwwDreN4"
      },
      "execution_count": 45,
      "outputs": []
    },
    {
      "cell_type": "code",
      "source": [
        "zi = np.array([[0, 1, 2],\n",
        "[1, 1, 2],\n",
        "[2, 2, 2]])"
      ],
      "metadata": {
        "id": "L8IjvwIZrdok"
      },
      "execution_count": 46,
      "outputs": []
    },
    {
      "cell_type": "code",
      "source": [
        "horizon = data_cube[xi, yi, zi]"
      ],
      "metadata": {
        "id": "vmugfQzOrk5h"
      },
      "execution_count": 47,
      "outputs": []
    },
    {
      "cell_type": "code",
      "source": [
        "print(data_cube)    # ?"
      ],
      "metadata": {
        "colab": {
          "base_uri": "https://localhost:8080/"
        },
        "id": "W8XCEvArroM3",
        "outputId": "d9cfdea1-0f71-4670-ca41-6fbd64863131"
      },
      "execution_count": 48,
      "outputs": [
        {
          "output_type": "stream",
          "name": "stdout",
          "text": [
            "[[[ 0  1  2]\n",
            "  [ 3  4  5]\n",
            "  [ 6  7  8]]\n",
            "\n",
            " [[ 9 10 11]\n",
            "  [12 13 14]\n",
            "  [15 16 17]]\n",
            "\n",
            " [[18 19 20]\n",
            "  [21 22 23]\n",
            "  [24 25 26]]]\n"
          ]
        }
      ]
    },
    {
      "cell_type": "code",
      "source": [
        ""
      ],
      "metadata": {
        "id": "Vt9wrflHrqv9"
      },
      "execution_count": null,
      "outputs": []
    }
  ]
}