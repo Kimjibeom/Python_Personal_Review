{
  "nbformat": 4,
  "nbformat_minor": 0,
  "metadata": {
    "colab": {
      "name": "유니코드와 인코딩.ipynb",
      "provenance": [],
      "authorship_tag": "ABX9TyM2p1wOP4B+Y+SRWcRKW2Jv",
      "include_colab_link": true
    },
    "kernelspec": {
      "name": "python3",
      "display_name": "Python 3"
    },
    "language_info": {
      "name": "python"
    }
  },
  "cells": [
    {
      "cell_type": "markdown",
      "metadata": {
        "id": "view-in-github",
        "colab_type": "text"
      },
      "source": [
        "<a href=\"https://colab.research.google.com/github/Kimjibeom/Python_Personal_Review/blob/main/%EC%9C%A0%EB%8B%88%EC%BD%94%EB%93%9C%EC%99%80_%EC%9D%B8%EC%BD%94%EB%94%A9.ipynb\" target=\"_parent\"><img src=\"https://colab.research.google.com/assets/colab-badge.svg\" alt=\"Open In Colab\"/></a>"
      ]
    },
    {
      "cell_type": "code",
      "metadata": {
        "colab": {
          "base_uri": "https://localhost:8080/"
        },
        "id": "SCLDyNbJ3Z7I",
        "outputId": "22f5a410-60b7-4716-9c99-081ba687cdab"
      },
      "source": [
        "# 유니코드와 인코딩\n",
        "\n",
        "a = '가'\n",
        "print(a)\n",
        "a.encode('utf-8')   # 3 byte"
      ],
      "execution_count": 4,
      "outputs": [
        {
          "output_type": "stream",
          "text": [
            "가\n"
          ],
          "name": "stdout"
        },
        {
          "output_type": "execute_result",
          "data": {
            "text/plain": [
              "b'\\xea\\xb0\\x80'"
            ]
          },
          "metadata": {
            "tags": []
          },
          "execution_count": 4
        }
      ]
    },
    {
      "cell_type": "code",
      "metadata": {
        "colab": {
          "base_uri": "https://localhost:8080/"
        },
        "id": "y0xAA52A4B_L",
        "outputId": "f521ea8f-a837-4902-98c4-bf2cc18bccc6"
      },
      "source": [
        "# 유니코드와 인코딩\n",
        "\n",
        "a = '가'\n",
        "print(a)\n",
        "a.encode('cp949')   # 2 byte"
      ],
      "execution_count": 5,
      "outputs": [
        {
          "output_type": "stream",
          "text": [
            "가\n"
          ],
          "name": "stdout"
        },
        {
          "output_type": "execute_result",
          "data": {
            "text/plain": [
              "b'\\xb0\\xa1'"
            ]
          },
          "metadata": {
            "tags": []
          },
          "execution_count": 5
        }
      ]
    },
    {
      "cell_type": "code",
      "metadata": {
        "colab": {
          "base_uri": "https://localhost:8080/"
        },
        "id": "Lg7IVpdY5KaA",
        "outputId": "6612c75b-7b8d-4e74-d4df-f415b1e3af2f"
      },
      "source": [
        "# 유니코드와 인코딩\n",
        "\n",
        "a = '가'\n",
        "print(a)\n",
        "ord(a)      # '가'에 해당하는 유니코드 10진수 값"
      ],
      "execution_count": 9,
      "outputs": [
        {
          "output_type": "stream",
          "text": [
            "가\n"
          ],
          "name": "stdout"
        },
        {
          "output_type": "execute_result",
          "data": {
            "text/plain": [
              "44032"
            ]
          },
          "metadata": {
            "tags": []
          },
          "execution_count": 9
        }
      ]
    },
    {
      "cell_type": "code",
      "metadata": {
        "colab": {
          "base_uri": "https://localhost:8080/",
          "height": 35
        },
        "id": "caCfulM05wO3",
        "outputId": "c5826e7a-01a4-4677-bdd0-ea0f67eb9895"
      },
      "source": [
        "hex(ord(a)) # '가'에 해당하는 16진수 값"
      ],
      "execution_count": 10,
      "outputs": [
        {
          "output_type": "execute_result",
          "data": {
            "application/vnd.google.colaboratory.intrinsic+json": {
              "type": "string"
            },
            "text/plain": [
              "'0xac00'"
            ]
          },
          "metadata": {
            "tags": []
          },
          "execution_count": 10
        }
      ]
    },
    {
      "cell_type": "code",
      "metadata": {
        "colab": {
          "base_uri": "https://localhost:8080/",
          "height": 35
        },
        "id": "cUYWwXuI5xqU",
        "outputId": "c5d541c8-01a6-4edc-c0a7-6579b708d47e"
      },
      "source": [
        "bin(ord(a)) # 2진수 값"
      ],
      "execution_count": 11,
      "outputs": [
        {
          "output_type": "execute_result",
          "data": {
            "application/vnd.google.colaboratory.intrinsic+json": {
              "type": "string"
            },
            "text/plain": [
              "'0b1010110000000000'"
            ]
          },
          "metadata": {
            "tags": []
          },
          "execution_count": 11
        }
      ]
    },
    {
      "cell_type": "code",
      "metadata": {
        "colab": {
          "base_uri": "https://localhost:8080/"
        },
        "id": "IsZ-_y8Y559n",
        "outputId": "6cf2abce-b339-47a6-dfff-5a7d29dab2b7"
      },
      "source": [
        "print(hex(0b11101010))\n",
        "print(hex(0b10110000))\n",
        "print(hex(0b10000000))"
      ],
      "execution_count": 13,
      "outputs": [
        {
          "output_type": "stream",
          "text": [
            "0xea\n",
            "0xb0\n",
            "0x80\n"
          ],
          "name": "stdout"
        }
      ]
    }
  ]
}