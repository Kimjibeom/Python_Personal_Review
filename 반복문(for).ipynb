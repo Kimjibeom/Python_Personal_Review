{
  "nbformat": 4,
  "nbformat_minor": 0,
  "metadata": {
    "colab": {
      "name": "반복문(for).ipynb",
      "provenance": [],
      "authorship_tag": "ABX9TyM+QBkbIt3kr9lM6+eTeuiq",
      "include_colab_link": true
    },
    "kernelspec": {
      "name": "python3",
      "display_name": "Python 3"
    },
    "language_info": {
      "name": "python"
    }
  },
  "cells": [
    {
      "cell_type": "markdown",
      "metadata": {
        "id": "view-in-github",
        "colab_type": "text"
      },
      "source": [
        "<a href=\"https://colab.research.google.com/github/Kimjibeom/Python_Personal_Review/blob/main/%EB%B0%98%EB%B3%B5%EB%AC%B8(for).ipynb\" target=\"_parent\"><img src=\"https://colab.research.google.com/assets/colab-badge.svg\" alt=\"Open In Colab\"/></a>"
      ]
    },
    {
      "cell_type": "code",
      "metadata": {
        "colab": {
          "base_uri": "https://localhost:8080/"
        },
        "id": "0zzWe62D6Y-e",
        "outputId": "b018c6ac-9586-48e0-e2d8-df411042a604"
      },
      "source": [
        "# 반복문 for\n",
        "\n",
        "a = 'abcdefg'\n",
        "for i in a:\n",
        "  print(i)"
      ],
      "execution_count": 1,
      "outputs": [
        {
          "output_type": "stream",
          "text": [
            "a\n",
            "b\n",
            "c\n",
            "d\n",
            "e\n",
            "f\n",
            "g\n"
          ],
          "name": "stdout"
        }
      ]
    },
    {
      "cell_type": "code",
      "metadata": {
        "colab": {
          "base_uri": "https://localhost:8080/"
        },
        "id": "B1d5lGnT6nuY",
        "outputId": "981043d7-62b7-4e4e-da00-cfe287803e64"
      },
      "source": [
        "a = ['python','java','c/c++','c#']\n",
        "for i in a:\n",
        "  print(i)"
      ],
      "execution_count": 2,
      "outputs": [
        {
          "output_type": "stream",
          "text": [
            "python\n",
            "java\n",
            "c/c++\n",
            "c#\n"
          ],
          "name": "stdout"
        }
      ]
    },
    {
      "cell_type": "code",
      "metadata": {
        "colab": {
          "base_uri": "https://localhost:8080/"
        },
        "id": "KUGFOh4n65ZY",
        "outputId": "879ee535-ce42-4dc6-d481-f4d71936607c"
      },
      "source": [
        "for i in range(10):\n",
        "  print(i)"
      ],
      "execution_count": 6,
      "outputs": [
        {
          "output_type": "stream",
          "text": [
            "0\n",
            "1\n",
            "2\n",
            "3\n",
            "4\n",
            "5\n",
            "6\n",
            "7\n",
            "8\n",
            "9\n"
          ],
          "name": "stdout"
        }
      ]
    },
    {
      "cell_type": "code",
      "metadata": {
        "colab": {
          "base_uri": "https://localhost:8080/"
        },
        "id": "A2lRqh657Aec",
        "outputId": "17485291-9dae-4477-c11e-9966ff53df92"
      },
      "source": [
        "for i in range(1,10+1):\n",
        "  print(i)"
      ],
      "execution_count": 7,
      "outputs": [
        {
          "output_type": "stream",
          "text": [
            "1\n",
            "2\n",
            "3\n",
            "4\n",
            "5\n",
            "6\n",
            "7\n",
            "8\n",
            "9\n",
            "10\n"
          ],
          "name": "stdout"
        }
      ]
    },
    {
      "cell_type": "code",
      "metadata": {
        "colab": {
          "base_uri": "https://localhost:8080/"
        },
        "id": "0OHqsA1b7HAO",
        "outputId": "f8648eea-1be2-4392-8b85-0a3a6f06da14"
      },
      "source": [
        "for i in range(1,10,2):\n",
        "  print(i)"
      ],
      "execution_count": 8,
      "outputs": [
        {
          "output_type": "stream",
          "text": [
            "1\n",
            "3\n",
            "5\n",
            "7\n",
            "9\n"
          ],
          "name": "stdout"
        }
      ]
    },
    {
      "cell_type": "code",
      "metadata": {
        "colab": {
          "base_uri": "https://localhost:8080/"
        },
        "id": "uHtsTCyf7T-E",
        "outputId": "7be91032-6fdd-4e27-d209-09102a010ace"
      },
      "source": [
        "a = [(1,2),(3,4),(5,6)]\n",
        "for i in a:\n",
        "  print(i)"
      ],
      "execution_count": 12,
      "outputs": [
        {
          "output_type": "stream",
          "text": [
            "(1, 2)\n",
            "(3, 4)\n",
            "(5, 6)\n"
          ],
          "name": "stdout"
        }
      ]
    },
    {
      "cell_type": "code",
      "metadata": {
        "colab": {
          "base_uri": "https://localhost:8080/"
        },
        "id": "xvNgtaH37dU7",
        "outputId": "59dce791-9fbc-4f03-cab7-72c2abd9f5d6"
      },
      "source": [
        "a = [(1,2),(3,4),(5,6)]\n",
        "for i in a: #i == (1,2)\n",
        "  for j in i : \n",
        "    print(j)"
      ],
      "execution_count": 14,
      "outputs": [
        {
          "output_type": "stream",
          "text": [
            "1\n",
            "2\n",
            "3\n",
            "4\n",
            "5\n",
            "6\n"
          ],
          "name": "stdout"
        }
      ]
    },
    {
      "cell_type": "code",
      "metadata": {
        "colab": {
          "base_uri": "https://localhost:8080/"
        },
        "id": "ZwmB7Ypr7-xl",
        "outputId": "c5316a72-8d3a-41d7-e1da-3743d864acd5"
      },
      "source": [
        "a = [[1,2,3,4,5],['a','b','c'],[11,12,13,14]]\n",
        "for i in a: \n",
        "  for j in i : \n",
        "    print(j)"
      ],
      "execution_count": 15,
      "outputs": [
        {
          "output_type": "stream",
          "text": [
            "1\n",
            "2\n",
            "3\n",
            "4\n",
            "5\n",
            "a\n",
            "b\n",
            "c\n",
            "11\n",
            "12\n",
            "13\n",
            "14\n"
          ],
          "name": "stdout"
        }
      ]
    },
    {
      "cell_type": "code",
      "metadata": {
        "colab": {
          "base_uri": "https://localhost:8080/"
        },
        "id": "tggMnUil8Mjn",
        "outputId": "fb3e587d-6641-46e5-a711-22c46d01c52d"
      },
      "source": [
        "a = [[[1,2,3,4,5],['a','b','c'],[11,12,13,14]]]\n",
        "for i in a: \n",
        "  for j in i : \n",
        "    print(j)"
      ],
      "execution_count": 16,
      "outputs": [
        {
          "output_type": "stream",
          "text": [
            "[1, 2, 3, 4, 5]\n",
            "['a', 'b', 'c']\n",
            "[11, 12, 13, 14]\n"
          ],
          "name": "stdout"
        }
      ]
    },
    {
      "cell_type": "code",
      "metadata": {
        "colab": {
          "base_uri": "https://localhost:8080/"
        },
        "id": "LMoX-sH-8UmG",
        "outputId": "a026208e-fca3-41fc-c3e3-9bfbc72ce274"
      },
      "source": [
        "student = [{'홍길동': 100},{'가제트': 200},{'가가멜': 300}]\n",
        "\n",
        "for i in student:\n",
        "  print(i)"
      ],
      "execution_count": 20,
      "outputs": [
        {
          "output_type": "stream",
          "text": [
            "{'홍길동': 100}\n",
            "{'가제트': 200}\n",
            "{'가가멜': 300}\n"
          ],
          "name": "stdout"
        }
      ]
    },
    {
      "cell_type": "code",
      "metadata": {
        "colab": {
          "base_uri": "https://localhost:8080/"
        },
        "id": "LweNwUJX_K06",
        "outputId": "61ce7ba7-6fdd-4913-8a51-8a5217f749c1"
      },
      "source": [
        "student = [{'홍길동': 100},{'가제트': 200},{'가가멜': 300}]\n",
        "\n",
        "for i in student:\n",
        "  print(i.items())"
      ],
      "execution_count": 21,
      "outputs": [
        {
          "output_type": "stream",
          "text": [
            "dict_items([('홍길동', 100)])\n",
            "dict_items([('가제트', 200)])\n",
            "dict_items([('가가멜', 300)])\n"
          ],
          "name": "stdout"
        }
      ]
    },
    {
      "cell_type": "code",
      "metadata": {
        "colab": {
          "base_uri": "https://localhost:8080/"
        },
        "id": "AeriB1qC_Ovm",
        "outputId": "fe743e7c-6020-496d-b9f9-c35cd00deb3f"
      },
      "source": [
        "student = [{'홍길동': 100},{'가제트': 200},{'가가멜': 300}]\n",
        "\n",
        "for i in student:\n",
        "  print(list(i.items()))"
      ],
      "execution_count": 23,
      "outputs": [
        {
          "output_type": "stream",
          "text": [
            "[('홍길동', 100)]\n",
            "[('가제트', 200)]\n",
            "[('가가멜', 300)]\n"
          ],
          "name": "stdout"
        }
      ]
    },
    {
      "cell_type": "code",
      "metadata": {
        "colab": {
          "base_uri": "https://localhost:8080/"
        },
        "id": "NYSVyorT_npr",
        "outputId": "1a86e3b5-f2e8-41c6-c43b-4598355557b5"
      },
      "source": [
        "student = [{'홍길동': 100},{'가제트': 200},{'가가멜': 300}]\n",
        "\n",
        "for i in student:\n",
        "  print(list(i.items())[0])"
      ],
      "execution_count": 24,
      "outputs": [
        {
          "output_type": "stream",
          "text": [
            "('홍길동', 100)\n",
            "('가제트', 200)\n",
            "('가가멜', 300)\n"
          ],
          "name": "stdout"
        }
      ]
    },
    {
      "cell_type": "code",
      "metadata": {
        "colab": {
          "base_uri": "https://localhost:8080/"
        },
        "id": "0KLDj9LD_w93",
        "outputId": "acec2a2b-900c-49b9-a675-fc2ad3c3cb1e"
      },
      "source": [
        "student = [{'홍길동': 100},{'가제트': 200},{'가가멜': 300}]\n",
        "\n",
        "for i in student:\n",
        "  data = (list(i.items())[0])\n",
        "  name = data[0]\n",
        "  value = data[1]\n",
        "  print('이름: {} 점수: {}'.format(name, value))"
      ],
      "execution_count": 26,
      "outputs": [
        {
          "output_type": "stream",
          "text": [
            "이름: 홍길동 점수: 100\n",
            "이름: 가제트 점수: 200\n",
            "이름: 가가멜 점수: 300\n"
          ],
          "name": "stdout"
        }
      ]
    },
    {
      "cell_type": "code",
      "metadata": {
        "colab": {
          "base_uri": "https://localhost:8080/"
        },
        "id": "lAkzX4iy_7lF",
        "outputId": "8007bc99-4ea6-4d59-cf33-54fd1b22a37e"
      },
      "source": [
        "student = [{'홍길동': 100},{'가제트': 200},{'가가멜': 300}]\n",
        "\n",
        "for s,i in enumerate(student, start=1):\n",
        "  data = (list(i.items())[0])\n",
        "  name = data[0]\n",
        "  value = data[1]\n",
        "  print('{}. 이름: {} 점수: {}'.format(s, name, value))"
      ],
      "execution_count": 29,
      "outputs": [
        {
          "output_type": "stream",
          "text": [
            "1. 이름: 홍길동 점수: 100\n",
            "2. 이름: 가제트 점수: 200\n",
            "3. 이름: 가가멜 점수: 300\n"
          ],
          "name": "stdout"
        }
      ]
    },
    {
      "cell_type": "code",
      "metadata": {
        "colab": {
          "base_uri": "https://localhost:8080/"
        },
        "id": "5l05sO3JARrv",
        "outputId": "cf097d2c-eece-4675-9eb7-a2a374f05774"
      },
      "source": [
        "msg = 'python programming'\n",
        "\n",
        "for s,i in enumerate(msg, start=1):\n",
        "  print(s, i)"
      ],
      "execution_count": 31,
      "outputs": [
        {
          "output_type": "stream",
          "text": [
            "1 p\n",
            "2 y\n",
            "3 t\n",
            "4 h\n",
            "5 o\n",
            "6 n\n",
            "7  \n",
            "8 p\n",
            "9 r\n",
            "10 o\n",
            "11 g\n",
            "12 r\n",
            "13 a\n",
            "14 m\n",
            "15 m\n",
            "16 i\n",
            "17 n\n",
            "18 g\n"
          ],
          "name": "stdout"
        }
      ]
    },
    {
      "cell_type": "code",
      "metadata": {
        "colab": {
          "base_uri": "https://localhost:8080/"
        },
        "id": "GxA1ggMIAvoJ",
        "outputId": "8ab7c6f8-c909-47b9-d6eb-6aa35a4988a4"
      },
      "source": [
        "result = []\n",
        "for num in range(1,6):\n",
        "  result.append(num +5)\n",
        "print(result)"
      ],
      "execution_count": 33,
      "outputs": [
        {
          "output_type": "stream",
          "text": [
            "[6, 7, 8, 9, 10]\n"
          ],
          "name": "stdout"
        }
      ]
    },
    {
      "cell_type": "code",
      "metadata": {
        "colab": {
          "base_uri": "https://localhost:8080/"
        },
        "id": "-bhOxRscBC9-",
        "outputId": "1a2ad4a4-cf86-411d-91d0-1f4503b18d1e"
      },
      "source": [
        "# result = []\n",
        "# for num in range(1,6):\n",
        "#   result.append(num +5)\n",
        "\n",
        "result = [num + 5 for num in range(1,6)]\n",
        "print(result)"
      ],
      "execution_count": 34,
      "outputs": [
        {
          "output_type": "stream",
          "text": [
            "[6, 7, 8, 9, 10]\n"
          ],
          "name": "stdout"
        }
      ]
    },
    {
      "cell_type": "code",
      "metadata": {
        "colab": {
          "base_uri": "https://localhost:8080/"
        },
        "id": "XGSBt5TBBSiG",
        "outputId": "b01fb230-7f2c-46dd-d21a-f33b80d904a2"
      },
      "source": [
        "result = [num +5 for num in range(1,10) if num % 2 ==0]\n",
        "print(result)"
      ],
      "execution_count": 35,
      "outputs": [
        {
          "output_type": "stream",
          "text": [
            "[7, 9, 11, 13]\n"
          ],
          "name": "stdout"
        }
      ]
    },
    {
      "cell_type": "code",
      "metadata": {
        "colab": {
          "base_uri": "https://localhost:8080/"
        },
        "id": "9udWOzgpBltd",
        "outputId": "fe598fce-3d59-4fcf-fd65-dcc121a00bc0"
      },
      "source": [
        "# result = [num *3 for num in range(1,100) if num % 2 ==0]\n",
        "# print(result)\n",
        "\n",
        "for num in range(0,99):\n",
        "  if num % 2 ==0:\n",
        "    result.append(num * 3)\n",
        "\n",
        "print(result)"
      ],
      "execution_count": 38,
      "outputs": [
        {
          "output_type": "stream",
          "text": [
            "[6, 12, 18, 24, 30, 36, 42, 48, 54, 60, 66, 72, 78, 84, 90, 96, 102, 108, 114, 120, 126, 132, 138, 144, 150, 156, 162, 168, 174, 180, 186, 192, 198, 204, 210, 216, 222, 228, 234, 240, 246, 252, 258, 264, 270, 276, 282, 288, 294, 0, 6, 12, 18, 24, 30, 36, 42, 48, 54, 60, 66, 72, 78, 84, 90, 96, 102, 108, 114, 120, 126, 132, 138, 144, 150, 156, 162, 168, 174, 180, 186, 192, 198, 204, 210, 216, 222, 228, 234, 240, 246, 252, 258, 264, 270, 276, 282, 288, 294, 0, 6, 12, 18, 24, 30, 36, 42, 48, 54, 60, 66, 72, 78, 84, 90, 96, 102, 108, 114, 120, 126, 132, 138, 144, 150, 156, 162, 168, 174, 180, 186, 192, 198, 204, 210, 216, 222, 228, 234, 240, 246, 252, 258, 264, 270, 276, 282, 288, 294]\n"
          ],
          "name": "stdout"
        }
      ]
    },
    {
      "cell_type": "code",
      "metadata": {
        "colab": {
          "base_uri": "https://localhost:8080/"
        },
        "id": "-Y6BEchzB1W6",
        "outputId": "2c994d17-220b-4203-ab1d-f76b3a8548b0"
      },
      "source": [
        "# for i in range(2,10):\n",
        "#   for j in range(1,10):\n",
        "#     result = i * j\n",
        "#     print('{} x {} = {}'.format(i,j,result))\n",
        "\n",
        "gugudan = ['{} x {} = {}'.format(i,j,i*j) for i in range(2,10) for j in range(1,10)]\n",
        "print(gugudan)"
      ],
      "execution_count": 47,
      "outputs": [
        {
          "output_type": "stream",
          "text": [
            "['2 x 1 = 2\\n', '2 x 2 = 4\\n', '2 x 3 = 6\\n', '2 x 4 = 8\\n', '2 x 5 = 10\\n', '2 x 6 = 12\\n', '2 x 7 = 14\\n', '2 x 8 = 16\\n', '2 x 9 = 18\\n', '3 x 1 = 3\\n', '3 x 2 = 6\\n', '3 x 3 = 9\\n', '3 x 4 = 12\\n', '3 x 5 = 15\\n', '3 x 6 = 18\\n', '3 x 7 = 21\\n', '3 x 8 = 24\\n', '3 x 9 = 27\\n', '4 x 1 = 4\\n', '4 x 2 = 8\\n', '4 x 3 = 12\\n', '4 x 4 = 16\\n', '4 x 5 = 20\\n', '4 x 6 = 24\\n', '4 x 7 = 28\\n', '4 x 8 = 32\\n', '4 x 9 = 36\\n', '5 x 1 = 5\\n', '5 x 2 = 10\\n', '5 x 3 = 15\\n', '5 x 4 = 20\\n', '5 x 5 = 25\\n', '5 x 6 = 30\\n', '5 x 7 = 35\\n', '5 x 8 = 40\\n', '5 x 9 = 45\\n', '6 x 1 = 6\\n', '6 x 2 = 12\\n', '6 x 3 = 18\\n', '6 x 4 = 24\\n', '6 x 5 = 30\\n', '6 x 6 = 36\\n', '6 x 7 = 42\\n', '6 x 8 = 48\\n', '6 x 9 = 54\\n', '7 x 1 = 7\\n', '7 x 2 = 14\\n', '7 x 3 = 21\\n', '7 x 4 = 28\\n', '7 x 5 = 35\\n', '7 x 6 = 42\\n', '7 x 7 = 49\\n', '7 x 8 = 56\\n', '7 x 9 = 63\\n', '8 x 1 = 8\\n', '8 x 2 = 16\\n', '8 x 3 = 24\\n', '8 x 4 = 32\\n', '8 x 5 = 40\\n', '8 x 6 = 48\\n', '8 x 7 = 56\\n', '8 x 8 = 64\\n', '8 x 9 = 72\\n', '9 x 1 = 9\\n', '9 x 2 = 18\\n', '9 x 3 = 27\\n', '9 x 4 = 36\\n', '9 x 5 = 45\\n', '9 x 6 = 54\\n', '9 x 7 = 63\\n', '9 x 8 = 72\\n', '9 x 9 = 81\\n']\n"
          ],
          "name": "stdout"
        }
      ]
    },
    {
      "cell_type": "code",
      "metadata": {
        "id": "8TDRgmS-Cfyi"
      },
      "source": [
        ""
      ],
      "execution_count": null,
      "outputs": []
    }
  ]
}