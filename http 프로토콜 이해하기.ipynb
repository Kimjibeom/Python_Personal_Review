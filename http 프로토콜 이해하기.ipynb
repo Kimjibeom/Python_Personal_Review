{
 "cells": [
  {
   "cell_type": "code",
   "execution_count": 7,
   "metadata": {},
   "outputs": [
    {
     "name": "stdout",
     "output_type": "stream",
     "text": [
      "b'HTTP/1.1 200 OK\\r\\nDate: Mon, 19 Jul 2021 11:09:47 GMT\\r\\nExpires: -1\\r\\nCache-Control: private, max-age=0\\r\\nContent-Type: text/html; charset=ISO-8859-1\\r\\nP3P: CP=\"This is not a P3P policy! See g.co/p3phelp for more info.\"\\r\\nServer: gws\\r\\nX-XSS-Protection: 0\\r\\nX-Frame-Options: SAMEORIGIN\\r\\nSet-Cookie: 1P_JAR=2021-07-19-11; expires=Wed, 18-Aug-2021 11:09:47 GMT; path=/; domain=.google.com; Secure\\r\\nSet-Cookie: NID=219=RK_SnylsQFisZ-yVSP4eUg2-wMPfwZO_npnvt05AV_FqcisjZRJC-EJNZ4UEcAUA71uZt_lDFmkn5fB6hn5GFWdAytFygMIc_QPp-VJG_KINPUP6A3LnspX7EI7XNiK5O4yf0xqcUT7MCIyKZiSNrctCJ--4H6Gpx-DomGLGf-k; expires=Tue, 18-Jan-2022 11:09:47 GMT; path=/; domain=.google.com; HttpOnly\\r\\nAccept-Ranges: none\\r\\nVary: Accept-Encoding\\r\\nTransfer-Encoding: chunked\\r\\n\\r\\n54fd\\r\\n<!doctype html><html itemscope=\"\" itemtype=\"http://schema.org/WebPage\" lang=\"ko\"><head><meta content=\"text/html; charset=UTF-8\" http-equiv=\"Content-Type\"><meta content=\"/images/branding/googleg/1x/googleg_standard_color_128dp.png\" itemprop=\"image\"><title>Google</title><script nonce=\"Y3ZNlT13DHpqyz9jW7cBzA==\">(function(){window.google={kEI:\\'e131YKXdKqawmAWy2oz4Aw\\',kEXPI:\\'0,772215,1,530320,56873,954,5105,206,4804,926,1390,383,246,5,1354,5250,6386,1116130,1197790,101,391,328985,51224,16114,17444,11240,17572,4859,1361,9290,3022,4753,12834,4020,978,13228,3847,4192,6430,7432,7095,4518,2777,919,910,5056,708,1279,2212,530,149,1103,840,6297,108,3406,606,2023,1777,520,1704,12966,3227,2845,7,4774,7580,5096,7876,5037,3407,908,2,3555,13142,3,576,6460,148,13965,4,1538,2304,1236,5803,4684,2014,3,18372,2658,4242,2459,654,32,11412,2216,1592,713,638,1494,5586,3772,6763,665,5830,2299,228,992,3102,18,3120,6,908,3,3541,1,14710,1814,283,912,5996,10614,1908,2,1394,2806,1715,2,3057,2538,2,1,3,6521,2,1898,617,1314,1532,2377,93,550,1781,577,697,1536,3042,1576,3,472,1646,173,5551,2,363,677,1160,1269,1249,2177,2,1712,290,1441,33,724,183,1575,1142,3360,1187,3,123,5350,13,1447,86,2368,7,9,1,665,39,586,239,223,1898,224,255,152,27,2,6,47,2,6,42,2185,118,394,74,568,326,2,1,1025,6,56,69,898,1166,32,312,426,470,84,57,268,100,56,4,51,326,26,332,57,101,190,149,1947,350,7,1377,1070,506,207,296,1962,242,34,480,80,1495,33,2198,1237,190,1475,5610124,190,4,32,220,58,76,5996735,2800696,882,444,1,2,80,1,1796,1,9,2,2551,1,748,141,795,563,1,4265,1,1,2,1331,3299,843,2609,155,17,13,72,139,4,2,20,2,169,13,19,46,5,39,96,548,29,2,2,1,2,1,2,2,7,4,1,2,2,2,2,2,2,312,41,513,186,1,1,158,3,2,2,2,2,2,4,2,3,3,233,27,2,7,21,23954702,2866027,1146349,28975,338,3,2339,75,906,7,283,1590\\',kBL:\\'rUkx\\'};google.sn=\\'webhp\\';google.kHL=\\'ko\\';})();(function(){\\nvar f=this||self;var h,k=[];function l(a){for(var b;a&&(!a.getAttribute||!(b=a.getAttribute(\"eid\")));)a=a.parentNode;return b||h}function m(a){for(var b=null;a&&(!a.getAttribute||!(b=a.getAttribute(\"leid\")));)a=a.parentNode;return b}\\nfunction n(a,b,c,d,g){var e=\"\";c||-1!==b.search(\"&ei=\")||(e=\"&ei=\"+l(d),-1===b.search(\"&lei=\")&&(d=m(d))&&(e+=\"&lei=\"+d));d=\"\";!c&&f._cshid&&-1===b.search(\"&cshid=\")&&\"slh\"!==a&&(d=\"&cshid=\"+f._cshid);c=c||\"/\"+(g||\"gen_204\")+\"?atyp=i&ct=\"+a+\"&cad=\"+b+e+\"&zx=\"+Date.now()+d;/^http:/i.test(c)&&\"https:\"===window.location.protocol&&(google.ml&&google.ml(Error(\"a\"),!1,{src:c,glmm:1}),c=\"\");return c};h=google.kEI;google.getEI=l;google.getLEI=m;google.ml=function(){return null};google.log=function(a,b,c,d,g){if(c=n(a,b,c,d,g)){a=new Image;var e=k.length;k[e]=a;a.onerror=a.onload=a.onabort=function(){delete k[e]};a.src=c}};google.logUrl=n;}).call(this);(function(){\\ngoogle.y={};google.sy=[];google.x=function(a,b){if(a)var c=a.id;else{do c=Math.random();while(google.y[c])}google.y[c]=[a,b];return!1};google.sx=function(a){google.sy.push(a)};google.lm=[];google.plm=function(a){google.lm.push.apply(google.lm,a)};google.lq=[];google.load=function(a,b,c){google.lq.push([[a],b,c])};google.loadAll=function(a,b){google.lq.push([a,b])};google.bx=!1;google.lx=function(){};}).call(this);google.f={};(function(){\\ndocument.documentElement.addEventListener(\"submit\",function(b){var a;if(a=b.target){var c=a.getAttribute(\"data-submitfalse\");a=\"1\"==c||\"q\"==c&&!a.elements.q.value?!0:!1}else a=!1;a&&(b.preventDefaul'\n"
     ]
    }
   ],
   "source": [
    "import socket\n",
    "\n",
    "sock = socket.socket(socket.AF_INET, socket.SOCK_STREAM)\n",
    "google_ip = socket.gethostbyname('google.com')\n",
    "sock.connect((google_ip, 80))\n",
    "\n",
    "sock.send('GET / HTTP/1.1\\n'.encode())\n",
    "sock.send(\"\\n\".encode())\n",
    "\n",
    "buffer = sock.recv(4096)\n",
    "sock.close()\n",
    "\n",
    "print(buffer)"
   ]
  },
  {
   "cell_type": "code",
   "execution_count": 8,
   "metadata": {},
   "outputs": [
    {
     "name": "stdout",
     "output_type": "stream",
     "text": [
      "HTTP/1.1 200 OK\n",
      "Date: Mon, 19 Jul 2021 11:09:49 GMT\n",
      "Expires: -1\n",
      "Cache-Control: private, max-age=0\n",
      "Content-Type: text/html; charset=ISO-8859-1\n",
      "P3P: CP=\"This is not a P3P policy! See g.co/p3phelp for more info.\"\n",
      "Server: gws\n",
      "X-XSS-Protection: 0\n",
      "X-Frame-Options: SAMEORIGIN\n",
      "Set-Cookie: 1P_JAR=2021-07-19-11; expires=Wed, 18-Aug-2021 11:09:49 GMT; path=/; domain=.google.com; Secure\n",
      "Set-Cookie: NID=219=FxFjsKLqdcHTDZC6UTLvRv8i2zHohi_5lfv_AGYOR2KZ3lvnUm3thnU7qFfneFF_9HfBj4_-DUjkEe6Xv7s95LQJVFOuJgeCHwByfo9zl9xU8RILGUDo8vzP1yxjvsQr9Zg6jGha_u3qxelw9pzn0UcLxpz7q-pWL1x6RH8WsNY; expires=Tue, 18-Jan-2022 11:09:49 GMT; path=/; domain=.google.com; HttpOnly\n",
      "Accept-Ranges: none\n",
      "Vary: Accept-Encoding\n",
      "Transfer-Encoding: chunked\n",
      "\n",
      "53da\n",
      "<!doctype html><html itemscope=\"\" itemtype=\"http://schema.org/WebPage\" lang=\"ko\"><head><meta content=\"text/html; charset=UTF-8\" http-equiv=\"Content-Type\"><meta content=\"/images/branding/googleg/1x/googleg_standard_color_128dp.png\" itemprop=\"image\"><title>Google</title><script nonce=\"u60e6zbb5yMeeS1x3khtmQ==\">(function(){window.google={kEI:'fV31YLmNGIyTr7wP75OcmAQ',kEXPI:'0,18167,754048,1,530314,56879,954,5105,206,4804,925,1391,383,246,5,1354,5251,1122515,1197788,103,392,302679,26305,51224,16114,17444,11240,17572,4859,1361,9291,3025,17583,4020,978,13228,6165,8304,14528,4516,2778,919,262,4819,885,708,1279,2212,530,149,561,542,840,6297,3514,606,2023,1777,522,14668,3227,1989,856,7,5599,6755,5096,7876,3749,1288,3407,908,2,941,2614,13142,3,346,230,6459,804,13320,4,1252,276,2304,923,313,5226,577,4684,2011,4070,12270,2038,2658,4242,2459,656,30,13628,2305,638,1494,5587,3771,6763,665,2271,3547,2539,992,3102,17,2239,882,6,908,3,3541,1,14710,1814,283,912,5992,10618,1908,2,1394,2806,1715,2,3057,2538,2,1,3,6282,239,2,1898,1128,2,801,1532,2379,91,550,1780,1275,1076,3502,2051,1646,171,5458,95,2,1040,644,516,1269,21,22,3383,2,1712,291,1440,33,725,182,1575,1144,3452,2,1091,3,120,5,3662,1686,1461,2453,7,9,1,665,39,586,237,226,1897,640,2,6,83,2,6,24,499,1804,1388,2,1,998,5,127,899,1512,422,471,84,325,247,648,18,39,101,190,141,424,1251,280,350,7,1375,1072,181,61,265,206,2,2195,337,373,107,659,1393,1361,299,2,80,1439,1475,5610124,194,32,220,59,1,75,5996734,2799372,1324,882,444,1,2,80,1,1796,1,9,2,2551,1,748,141,795,563,1,4265,1,1,2,1331,3299,843,2609,155,17,13,72,139,4,2,20,2,169,13,19,46,5,39,96,548,29,2,2,1,2,1,2,2,7,4,1,2,2,2,2,2,2,312,41,513,186,1,1,158,3,2,2,2,2,2,4,2,3,3,233,36,21,1874750,21780086,299865,2866028,1146349,26661,7,2307,338,3,1454,885,75,539,2250,368',kBL:'rUkx'};google.sn='webhp';google.kHL='ko';})();(function(){\n",
      "var f=this||self;var h,k=[];function l(a){for(var b;a&&(!a.getAttribute||!(b=a.getAttribute(\"eid\")));)a=a.parentNode;return b||h}function m(a){for(var b=null;a&&(!a.getAttribute||!(b=a.getAttribute(\"leid\")));)a=a.parentNode;return b}\n",
      "function n(a,b,c,d,g){var e=\"\";c||-1!==b.search(\"&ei=\")||(e=\"&ei=\"+l(d),-1===b.search(\"&lei=\")&&(d=m(d))&&(e+=\"&lei=\"+d));d=\"\";!c&&f._cshid&&-1===b.search(\"&cshid=\")&&\"slh\"!==a&&(d=\"&cshid=\"+f._cshid);c=c||\"/\"+(g||\"gen_204\")+\"?atyp=i&ct=\"+a+\"&cad=\"+b+e+\"&zx=\"+Date.now()+d;/^http:/i.test(c)&&\"https:\"===window.location.protocol&&(google.ml&&google.ml(Error(\"a\"),!1,{src:c,glmm:1}),c=\"\");return c};h=google.kEI;google.getEI=l;google.getLEI=m;google.ml=function(){return null};google.log=function(a,b,c,d,g){if(c=n(a,b,c,d,g)){a=new Image;var e=k.length;k[e]=a;a.onerror=a.onload=a.onabort=function(){delete k[e]};a.src=c}};google.logUrl=n;}).call(this);(function(){\n",
      "google.y={};google.sy=[];google.x=function(a,b){if(a)var c=a.id;else{do c=Math.random();while(google.y[c])}google.y[c]=[a,b];return!1};google.sx=function(a){google.sy.push(a)};google.lm=[];google.plm=function(a){google.lm.push.apply(google.lm,a)};google.lq=[];google.load=function(a,b,c){google.lq.push([[a],b,c])};google.loadAll=function(a,b){google.lq.push([a,b])};google.bx=!1;google.lx=function(){};}).call(this);google.f={};(function(){\n",
      "document.documentElement.addEventListener(\"submit\",function(b){var a;if(a=b.target){var c=a.getAttribute(\"data-submitfalse\");a=\"1\"==c||\"q\"==c&&!a.elements.q.value?!0:!1}else \n"
     ]
    }
   ],
   "source": [
    "import socket\n",
    "\n",
    "sock = socket.socket(socket.AF_INET, socket.SOCK_STREAM)\n",
    "google_ip = socket.gethostbyname('google.com')\n",
    "sock.connect((google_ip, 80))\n",
    "\n",
    "sock.send('GET / HTTP/1.1\\n'.encode())\n",
    "sock.send(\"\\n\".encode())\n",
    "\n",
    "buffer = sock.recv(4096)\n",
    "buffer = buffer.decode().replace('\\r\\n', '\\n')\n",
    "sock.close()\n",
    "\n",
    "print(buffer)"
   ]
  },
  {
   "cell_type": "code",
   "execution_count": null,
   "metadata": {},
   "outputs": [],
   "source": []
  }
 ],
 "metadata": {
  "kernelspec": {
   "display_name": "Python 3",
   "language": "python",
   "name": "python3"
  },
  "language_info": {
   "codemirror_mode": {
    "name": "ipython",
    "version": 3
   },
   "file_extension": ".py",
   "mimetype": "text/x-python",
   "name": "python",
   "nbconvert_exporter": "python",
   "pygments_lexer": "ipython3",
   "version": "3.8.3"
  }
 },
 "nbformat": 4,
 "nbformat_minor": 4
}
